{
 "cells": [
  {
   "cell_type": "markdown",
   "metadata": {},
   "source": [
    "# Module 1 Load Data"
   ]
  },
  {
   "cell_type": "code",
   "execution_count": 1,
   "metadata": {},
   "outputs": [],
   "source": [
    "from collections import defaultdict\n",
    "import numpy as np\n",
    "import pandas as pd"
   ]
  },
  {
   "cell_type": "code",
   "execution_count": 30,
   "metadata": {},
   "outputs": [
    {
     "name": "stdout",
     "output_type": "stream",
     "text": [
      "(60055, 5)\n",
      "(29266, 5)\n"
     ]
    },
    {
     "name": "stderr",
     "output_type": "stream",
     "text": [
      "C:\\Users\\croco\\AppData\\Local\\Temp\\ipykernel_4168\\3075150544.py:3: DtypeWarning: Columns (20,29,30) have mixed types. Specify dtype option on import or set low_memory=False.\n",
      "  dbfile = pd.read_csv('./Data/VDJDB/vdjdb_full.txt', sep='\\t')\n"
     ]
    },
    {
     "data": {
      "text/html": [
       "<div>\n",
       "<style scoped>\n",
       "    .dataframe tbody tr th:only-of-type {\n",
       "        vertical-align: middle;\n",
       "    }\n",
       "\n",
       "    .dataframe tbody tr th {\n",
       "        vertical-align: top;\n",
       "    }\n",
       "\n",
       "    .dataframe thead th {\n",
       "        text-align: right;\n",
       "    }\n",
       "</style>\n",
       "<table border=\"1\" class=\"dataframe\">\n",
       "  <thead>\n",
       "    <tr style=\"text-align: right;\">\n",
       "      <th></th>\n",
       "      <th>cdr3.alpha</th>\n",
       "      <th>cdr3.beta</th>\n",
       "      <th>antigen.epitope</th>\n",
       "      <th>antigen.species</th>\n",
       "      <th>mhc.class</th>\n",
       "    </tr>\n",
       "  </thead>\n",
       "  <tbody>\n",
       "    <tr>\n",
       "      <th>0</th>\n",
       "      <td>CIVRAPGRADMRF</td>\n",
       "      <td>CASSYLPGQGDHYSNQPQHF</td>\n",
       "      <td>FLKEKGGL</td>\n",
       "      <td>HIV-1</td>\n",
       "      <td>MHCI</td>\n",
       "    </tr>\n",
       "    <tr>\n",
       "      <th>2</th>\n",
       "      <td>CAVPSGAGSYQLTF</td>\n",
       "      <td>CASSFEPGQGFYSNQPQHF</td>\n",
       "      <td>FLKEKGGL</td>\n",
       "      <td>HIV-1</td>\n",
       "      <td>MHCI</td>\n",
       "    </tr>\n",
       "    <tr>\n",
       "      <th>3</th>\n",
       "      <td>CAVKASGSRLT</td>\n",
       "      <td>CASSYEPGQVSHYSNQPQHF</td>\n",
       "      <td>FLKEKGGL</td>\n",
       "      <td>HIV-1</td>\n",
       "      <td>MHCI</td>\n",
       "    </tr>\n",
       "    <tr>\n",
       "      <th>4</th>\n",
       "      <td>CAYRPPGTYKYIF</td>\n",
       "      <td>CASSALASLNEQFF</td>\n",
       "      <td>FLKEKGGL</td>\n",
       "      <td>HIV-1</td>\n",
       "      <td>MHCI</td>\n",
       "    </tr>\n",
       "    <tr>\n",
       "      <th>5</th>\n",
       "      <td>CIVRAPGRADMRF</td>\n",
       "      <td>CASSYLPGQGDHYSNQPQHF</td>\n",
       "      <td>FLKEQGGL</td>\n",
       "      <td>HIV-1</td>\n",
       "      <td>MHCI</td>\n",
       "    </tr>\n",
       "  </tbody>\n",
       "</table>\n",
       "</div>"
      ],
      "text/plain": [
       "       cdr3.alpha             cdr3.beta antigen.epitope antigen.species  \\\n",
       "0   CIVRAPGRADMRF  CASSYLPGQGDHYSNQPQHF        FLKEKGGL           HIV-1   \n",
       "2  CAVPSGAGSYQLTF   CASSFEPGQGFYSNQPQHF        FLKEKGGL           HIV-1   \n",
       "3     CAVKASGSRLT  CASSYEPGQVSHYSNQPQHF        FLKEKGGL           HIV-1   \n",
       "4   CAYRPPGTYKYIF        CASSALASLNEQFF        FLKEKGGL           HIV-1   \n",
       "5   CIVRAPGRADMRF  CASSYLPGQGDHYSNQPQHF        FLKEQGGL           HIV-1   \n",
       "\n",
       "  mhc.class  \n",
       "0      MHCI  \n",
       "2      MHCI  \n",
       "3      MHCI  \n",
       "4      MHCI  \n",
       "5      MHCI  "
      ]
     },
     "execution_count": 30,
     "metadata": {},
     "output_type": "execute_result"
    }
   ],
   "source": [
    "## load dataset & filter out missing data\n",
    "# dbfile = pd.read_csv('./Data/vdjdb.slim.txt', sep='\\t')\n",
    "dbfile = pd.read_csv('./Data/VDJDB/vdjdb_full.txt', sep='\\t')\n",
    "# print(dbfile.columns)\n",
    "dbfile = dbfile[['cdr3.alpha', 'cdr3.beta','antigen.epitope','antigen.species',\"mhc.class\"]]\n",
    "print(dbfile.shape)\n",
    "dbfile = dbfile.dropna(subset=['cdr3.alpha', 'cdr3.beta','antigen.epitope'])\n",
    "print(dbfile.shape)\n",
    "dbfile.head()"
   ]
  },
  {
   "cell_type": "code",
   "execution_count": 42,
   "metadata": {},
   "outputs": [
    {
     "name": "stderr",
     "output_type": "stream",
     "text": [
      "C:\\Users\\croco\\AppData\\Local\\Temp\\ipykernel_4168\\919688929.py:1: DtypeWarning: Columns (8,10,11,13,15,16,17,18,19,20,21,22,23,24,25,30,31,36,37,42,44,45,46,47,48,49,50,51,52,53,54,59,60,65,66) have mixed types. Specify dtype option on import or set low_memory=False.\n",
      "  iedbfile = pd.read_csv('./Data/IEDB/tcell_receptor_table_export_1668026760.csv')\n"
     ]
    },
    {
     "name": "stdout",
     "output_type": "stream",
     "text": [
      "(205824, 4)\n",
      "(26231, 4)\n"
     ]
    },
    {
     "data": {
      "text/html": [
       "<div>\n",
       "<style scoped>\n",
       "    .dataframe tbody tr th:only-of-type {\n",
       "        vertical-align: middle;\n",
       "    }\n",
       "\n",
       "    .dataframe tbody tr th {\n",
       "        vertical-align: top;\n",
       "    }\n",
       "\n",
       "    .dataframe thead th {\n",
       "        text-align: right;\n",
       "    }\n",
       "</style>\n",
       "<table border=\"1\" class=\"dataframe\">\n",
       "  <thead>\n",
       "    <tr style=\"text-align: right;\">\n",
       "      <th></th>\n",
       "      <th>Chain 1 CDR3 Curated</th>\n",
       "      <th>Chain 2 CDR3 Curated</th>\n",
       "      <th>Description</th>\n",
       "      <th>Organism</th>\n",
       "    </tr>\n",
       "  </thead>\n",
       "  <tbody>\n",
       "    <tr>\n",
       "      <th>0</th>\n",
       "      <td>IVVRSSNTGKLI</td>\n",
       "      <td>ASSQDRDTQY</td>\n",
       "      <td>VMAPRTLIL</td>\n",
       "      <td>Homo sapiens (human)</td>\n",
       "    </tr>\n",
       "    <tr>\n",
       "      <th>80</th>\n",
       "      <td>CAVTTDSWGKLQF</td>\n",
       "      <td>CASRPGLAGGRPEQYF</td>\n",
       "      <td>LLFGYPVYV</td>\n",
       "      <td>Human T-cell leukemia virus type I (Human T ce...</td>\n",
       "    </tr>\n",
       "    <tr>\n",
       "      <th>82</th>\n",
       "      <td>CAVTTDSWGKLQF</td>\n",
       "      <td>CASRPGLMSAQPEQYF</td>\n",
       "      <td>LLFGYPVYV</td>\n",
       "      <td>Human T-cell leukemia virus type I (Human T ce...</td>\n",
       "    </tr>\n",
       "    <tr>\n",
       "      <th>109</th>\n",
       "      <td>CAVRPTSGGSYIPTF</td>\n",
       "      <td>CASSYVGNTGELFF</td>\n",
       "      <td>SLLMWITQC</td>\n",
       "      <td>Homo sapiens (human)</td>\n",
       "    </tr>\n",
       "    <tr>\n",
       "      <th>202</th>\n",
       "      <td>TVYGGATNKLI</td>\n",
       "      <td>SARGGSYNSPLH</td>\n",
       "      <td>LSRFSWGAEGQRPGFGYGG</td>\n",
       "      <td>Homo sapiens (human)</td>\n",
       "    </tr>\n",
       "  </tbody>\n",
       "</table>\n",
       "</div>"
      ],
      "text/plain": [
       "    Chain 1 CDR3 Curated Chain 2 CDR3 Curated          Description  \\\n",
       "0           IVVRSSNTGKLI           ASSQDRDTQY            VMAPRTLIL   \n",
       "80         CAVTTDSWGKLQF     CASRPGLAGGRPEQYF            LLFGYPVYV   \n",
       "82         CAVTTDSWGKLQF     CASRPGLMSAQPEQYF            LLFGYPVYV   \n",
       "109      CAVRPTSGGSYIPTF       CASSYVGNTGELFF            SLLMWITQC   \n",
       "202          TVYGGATNKLI         SARGGSYNSPLH  LSRFSWGAEGQRPGFGYGG   \n",
       "\n",
       "                                              Organism  \n",
       "0                                 Homo sapiens (human)  \n",
       "80   Human T-cell leukemia virus type I (Human T ce...  \n",
       "82   Human T-cell leukemia virus type I (Human T ce...  \n",
       "109                               Homo sapiens (human)  \n",
       "202                               Homo sapiens (human)  "
      ]
     },
     "execution_count": 42,
     "metadata": {},
     "output_type": "execute_result"
    }
   ],
   "source": [
    "iedbfile = pd.read_csv('./Data/IEDB/tcell_receptor_table_export_1668026760.csv')\n",
    "# print(iedbfile.columns)\n",
    "# Chain 1 Full Sequence', 'Chain 1 Accession', 'Chain 1 CDR3 Curated',\n",
    "#        'Chain 1 CDR3 Calculated'\n",
    "iedbfile = iedbfile[['Chain 1 CDR3 Curated','Chain 2 CDR3 Curated',\"Description\",\"Organism\"]]\n",
    "print(iedbfile.shape)\n",
    "iedbfile = iedbfile.dropna(subset=['Chain 1 CDR3 Curated','Chain 2 CDR3 Curated',\"Description\"])\n",
    "print(iedbfile.shape)\n",
    "iedbfile.head()"
   ]
  },
  {
   "cell_type": "code",
   "execution_count": 12,
   "metadata": {},
   "outputs": [],
   "source": [
    "from functions import load\n",
    "# from functions.load import enc_list_bl_max_len, positional_coding, blosum50_20aa "
   ]
  },
  {
   "cell_type": "code",
   "execution_count": 28,
   "metadata": {},
   "outputs": [
    {
     "data": {
      "text/plain": [
       "<module 'functions.load' from 'c:\\\\Users\\\\croco\\\\OneDrive - Emory University\\\\Courses\\\\BMI 536 Deep Learning\\\\FinalProj\\\\functions\\\\load.py'>"
      ]
     },
     "execution_count": 28,
     "metadata": {},
     "output_type": "execute_result"
    }
   ],
   "source": [
    "from importlib import reload\n",
    "reload(load)"
   ]
  },
  {
   "cell_type": "code",
   "execution_count": 5,
   "metadata": {},
   "outputs": [
    {
     "name": "stdout",
     "output_type": "stream",
     "text": [
      "0     CIVRAPGRADMRF\n",
      "2    CAVPSGAGSYQLTF\n",
      "Name: cdr3.alpha, dtype: object\n"
     ]
    },
    {
     "data": {
      "text/plain": [
       "(2, 30, 20)"
      ]
     },
     "execution_count": 5,
     "metadata": {},
     "output_type": "execute_result"
    }
   ],
   "source": [
    "print(dbfile.head(n=2)[\"cdr3.alpha\"])\n",
    "load.enc_list_bl_max_len(dbfile.head(n=2)[\"cdr3.alpha\"],load.blosum50_20aa,30).shape"
   ]
  },
  {
   "cell_type": "code",
   "execution_count": 10,
   "metadata": {},
   "outputs": [],
   "source": [
    "tokens = load.blosum50_20aa.keys()\n",
    "\n",
    "tokens = list(tokens)\n",
    "tk_dict = defaultdict(lambda: None)\n",
    "for idx in range(len(tokens)):\n",
    "    tk_dict[tokens[idx]]=idx+1"
   ]
  },
  {
   "cell_type": "code",
   "execution_count": 43,
   "metadata": {},
   "outputs": [
    {
     "data": {
      "text/plain": [
       "(52, 30)"
      ]
     },
     "execution_count": 43,
     "metadata": {},
     "output_type": "execute_result"
    }
   ],
   "source": [
    "load.positional_coding(dbfile.head(n=52)[\"cdr3.alpha\"],tk_dict,30).shape\n",
    "load.positional_coding(iedbfile.head(n=52)[\"Chain 1 CDR3 Curated\"],tk_dict,30).shape"
   ]
  },
  {
   "cell_type": "code",
   "execution_count": 46,
   "metadata": {},
   "outputs": [
    {
     "data": {
      "text/plain": [
       "122"
      ]
     },
     "execution_count": 46,
     "metadata": {},
     "output_type": "execute_result"
    }
   ],
   "source": [
    "max(iedbfile[\"Description\"].str.len())"
   ]
  },
  {
   "cell_type": "code",
   "execution_count": null,
   "metadata": {},
   "outputs": [],
   "source": [
    "from sklearn.model_selection import train_test_split"
   ]
  },
  {
   "cell_type": "code",
   "execution_count": null,
   "metadata": {},
   "outputs": [],
   "source": [
    "train, test = train_test_split(dbfile, test_size=0.2)"
   ]
  }
 ],
 "metadata": {
  "kernelspec": {
   "display_name": "Python 3.9.13 ('tf-gpu')",
   "language": "python",
   "name": "python3"
  },
  "language_info": {
   "codemirror_mode": {
    "name": "ipython",
    "version": 3
   },
   "file_extension": ".py",
   "mimetype": "text/x-python",
   "name": "python",
   "nbconvert_exporter": "python",
   "pygments_lexer": "ipython3",
   "version": "3.9.15"
  },
  "orig_nbformat": 4,
  "vscode": {
   "interpreter": {
    "hash": "009932425255c51b26de204d40c57b9ea5b32c204f45def90e769b2261880a6b"
   }
  }
 },
 "nbformat": 4,
 "nbformat_minor": 2
}

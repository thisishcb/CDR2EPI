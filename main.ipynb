{
 "cells": [
  {
   "cell_type": "markdown",
   "metadata": {},
   "source": [
    "# Module 1 Load Data"
   ]
  },
  {
   "cell_type": "code",
   "execution_count": 2,
   "metadata": {},
   "outputs": [],
   "source": [
    "import pandas as pd\n",
    "import tensorflow as tf"
   ]
  },
  {
   "cell_type": "code",
   "execution_count": 15,
   "metadata": {},
   "outputs": [
    {
     "name": "stdout",
     "output_type": "stream",
     "text": [
      "Index(['cdr3.alpha', 'v.alpha', 'j.alpha', 'cdr3.beta', 'v.beta', 'd.beta',\n",
      "       'j.beta', 'species', 'mhc.a', 'mhc.b', 'mhc.class', 'antigen.epitope',\n",
      "       'antigen.gene', 'antigen.species', 'reference.id',\n",
      "       'method.identification', 'method.frequency', 'method.singlecell',\n",
      "       'method.sequencing', 'method.verification', 'meta.study.id',\n",
      "       'meta.cell.subset', 'meta.subject.cohort', 'meta.subject.id',\n",
      "       'meta.replica.id', 'meta.clone.id', 'meta.epitope.id', 'meta.tissue',\n",
      "       'meta.donor.MHC', 'meta.donor.MHC.method', 'meta.structure.id',\n",
      "       'cdr3fix.alpha', 'cdr3fix.beta', 'vdjdb.score'],\n",
      "      dtype='object')\n"
     ]
    },
    {
     "name": "stderr",
     "output_type": "stream",
     "text": [
      "C:\\Users\\croco\\AppData\\Local\\Temp\\ipykernel_15104\\3737345402.py:3: DtypeWarning: Columns (20,29,30) have mixed types. Specify dtype option on import or set low_memory=False.\n",
      "  dbfile = pd.read_csv('./Data/VDJDB/vdjdb_full.txt', sep='\\t')\n"
     ]
    }
   ],
   "source": [
    "## load dataset & filter out missing data\n",
    "# dbfile = pd.read_csv('./Data/vdjdb.slim.txt', sep='\\t')\n",
    "dbfile = pd.read_csv('./Data/VDJDB/vdjdb_full.txt', sep='\\t')\n",
    "print(dbfile.columns)\n",
    "dbfile = dbfile[['cdr3.alpha', 'cdr3.beta','antigen.epitope','antigen.species',\"mhc.class\"]]"
   ]
  },
  {
   "cell_type": "code",
   "execution_count": 18,
   "metadata": {},
   "outputs": [
    {
     "name": "stdout",
     "output_type": "stream",
     "text": [
      "(29266, 5)\n",
      "(29266, 5)\n"
     ]
    },
    {
     "data": {
      "text/html": [
       "<div>\n",
       "<style scoped>\n",
       "    .dataframe tbody tr th:only-of-type {\n",
       "        vertical-align: middle;\n",
       "    }\n",
       "\n",
       "    .dataframe tbody tr th {\n",
       "        vertical-align: top;\n",
       "    }\n",
       "\n",
       "    .dataframe thead th {\n",
       "        text-align: right;\n",
       "    }\n",
       "</style>\n",
       "<table border=\"1\" class=\"dataframe\">\n",
       "  <thead>\n",
       "    <tr style=\"text-align: right;\">\n",
       "      <th></th>\n",
       "      <th>cdr3.alpha</th>\n",
       "      <th>cdr3.beta</th>\n",
       "      <th>antigen.epitope</th>\n",
       "      <th>antigen.species</th>\n",
       "      <th>mhc.class</th>\n",
       "    </tr>\n",
       "  </thead>\n",
       "  <tbody>\n",
       "    <tr>\n",
       "      <th>0</th>\n",
       "      <td>CIVRAPGRADMRF</td>\n",
       "      <td>CASSYLPGQGDHYSNQPQHF</td>\n",
       "      <td>FLKEKGGL</td>\n",
       "      <td>HIV-1</td>\n",
       "      <td>MHCI</td>\n",
       "    </tr>\n",
       "    <tr>\n",
       "      <th>2</th>\n",
       "      <td>CAVPSGAGSYQLTF</td>\n",
       "      <td>CASSFEPGQGFYSNQPQHF</td>\n",
       "      <td>FLKEKGGL</td>\n",
       "      <td>HIV-1</td>\n",
       "      <td>MHCI</td>\n",
       "    </tr>\n",
       "    <tr>\n",
       "      <th>3</th>\n",
       "      <td>CAVKASGSRLT</td>\n",
       "      <td>CASSYEPGQVSHYSNQPQHF</td>\n",
       "      <td>FLKEKGGL</td>\n",
       "      <td>HIV-1</td>\n",
       "      <td>MHCI</td>\n",
       "    </tr>\n",
       "    <tr>\n",
       "      <th>4</th>\n",
       "      <td>CAYRPPGTYKYIF</td>\n",
       "      <td>CASSALASLNEQFF</td>\n",
       "      <td>FLKEKGGL</td>\n",
       "      <td>HIV-1</td>\n",
       "      <td>MHCI</td>\n",
       "    </tr>\n",
       "    <tr>\n",
       "      <th>5</th>\n",
       "      <td>CIVRAPGRADMRF</td>\n",
       "      <td>CASSYLPGQGDHYSNQPQHF</td>\n",
       "      <td>FLKEQGGL</td>\n",
       "      <td>HIV-1</td>\n",
       "      <td>MHCI</td>\n",
       "    </tr>\n",
       "  </tbody>\n",
       "</table>\n",
       "</div>"
      ],
      "text/plain": [
       "       cdr3.alpha             cdr3.beta antigen.epitope antigen.species  \\\n",
       "0   CIVRAPGRADMRF  CASSYLPGQGDHYSNQPQHF        FLKEKGGL           HIV-1   \n",
       "2  CAVPSGAGSYQLTF   CASSFEPGQGFYSNQPQHF        FLKEKGGL           HIV-1   \n",
       "3     CAVKASGSRLT  CASSYEPGQVSHYSNQPQHF        FLKEKGGL           HIV-1   \n",
       "4   CAYRPPGTYKYIF        CASSALASLNEQFF        FLKEKGGL           HIV-1   \n",
       "5   CIVRAPGRADMRF  CASSYLPGQGDHYSNQPQHF        FLKEQGGL           HIV-1   \n",
       "\n",
       "  mhc.class  \n",
       "0      MHCI  \n",
       "2      MHCI  \n",
       "3      MHCI  \n",
       "4      MHCI  \n",
       "5      MHCI  "
      ]
     },
     "execution_count": 18,
     "metadata": {},
     "output_type": "execute_result"
    }
   ],
   "source": [
    "print(dbfile.shape)\n",
    "dbfile = dbfile.dropna(subset=['cdr3.alpha', 'cdr3.beta','antigen.epitope'])\n",
    "print(dbfile.shape)\n",
    "dbfile.head()"
   ]
  },
  {
   "cell_type": "code",
   "execution_count": 3,
   "metadata": {},
   "outputs": [
    {
     "name": "stdout",
     "output_type": "stream",
     "text": [
      "2.10.1\n"
     ]
    }
   ],
   "source": [
    "print(tf.__version__)"
   ]
  },
  {
   "cell_type": "code",
   "execution_count": null,
   "metadata": {},
   "outputs": [],
   "source": []
  },
  {
   "cell_type": "code",
   "execution_count": null,
   "metadata": {},
   "outputs": [],
   "source": []
  }
 ],
 "metadata": {
  "kernelspec": {
   "display_name": "Python 3.9.13 ('tf-gpu')",
   "language": "python",
   "name": "python3"
  },
  "language_info": {
   "codemirror_mode": {
    "name": "ipython",
    "version": 3
   },
   "file_extension": ".py",
   "mimetype": "text/x-python",
   "name": "python",
   "nbconvert_exporter": "python",
   "pygments_lexer": "ipython3",
   "version": "3.9.15"
  },
  "orig_nbformat": 4,
  "vscode": {
   "interpreter": {
    "hash": "009932425255c51b26de204d40c57b9ea5b32c204f45def90e769b2261880a6b"
   }
  }
 },
 "nbformat": 4,
 "nbformat_minor": 2
}

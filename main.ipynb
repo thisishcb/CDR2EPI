{
 "cells": [
  {
   "cell_type": "markdown",
   "metadata": {},
   "source": [
    "# Module 1 Load Data"
   ]
  },
  {
   "cell_type": "code",
   "execution_count": 17,
   "metadata": {},
   "outputs": [],
   "source": [
    "import sys\n",
    "from collections import defaultdict\n",
    "import numpy as np\n",
    "import pandas as pd\n",
    "import tensorflow as tf"
   ]
  },
  {
   "cell_type": "markdown",
   "metadata": {},
   "source": [
    "## load table "
   ]
  },
  {
   "cell_type": "code",
   "execution_count": 18,
   "metadata": {},
   "outputs": [
    {
     "name": "stdout",
     "output_type": "stream",
     "text": [
      "(60055, 5)\n",
      "(29266, 5)\n"
     ]
    },
    {
     "name": "stderr",
     "output_type": "stream",
     "text": [
      "C:\\Users\\croco\\AppData\\Local\\Temp\\ipykernel_15540\\3075150544.py:3: DtypeWarning: Columns (20,29,30) have mixed types. Specify dtype option on import or set low_memory=False.\n",
      "  dbfile = pd.read_csv('./Data/VDJDB/vdjdb_full.txt', sep='\\t')\n"
     ]
    },
    {
     "data": {
      "text/html": [
       "<div>\n",
       "<style scoped>\n",
       "    .dataframe tbody tr th:only-of-type {\n",
       "        vertical-align: middle;\n",
       "    }\n",
       "\n",
       "    .dataframe tbody tr th {\n",
       "        vertical-align: top;\n",
       "    }\n",
       "\n",
       "    .dataframe thead th {\n",
       "        text-align: right;\n",
       "    }\n",
       "</style>\n",
       "<table border=\"1\" class=\"dataframe\">\n",
       "  <thead>\n",
       "    <tr style=\"text-align: right;\">\n",
       "      <th></th>\n",
       "      <th>cdr3.alpha</th>\n",
       "      <th>cdr3.beta</th>\n",
       "      <th>antigen.epitope</th>\n",
       "      <th>antigen.species</th>\n",
       "      <th>mhc.class</th>\n",
       "    </tr>\n",
       "  </thead>\n",
       "  <tbody>\n",
       "    <tr>\n",
       "      <th>0</th>\n",
       "      <td>CIVRAPGRADMRF</td>\n",
       "      <td>CASSYLPGQGDHYSNQPQHF</td>\n",
       "      <td>FLKEKGGL</td>\n",
       "      <td>HIV-1</td>\n",
       "      <td>MHCI</td>\n",
       "    </tr>\n",
       "    <tr>\n",
       "      <th>2</th>\n",
       "      <td>CAVPSGAGSYQLTF</td>\n",
       "      <td>CASSFEPGQGFYSNQPQHF</td>\n",
       "      <td>FLKEKGGL</td>\n",
       "      <td>HIV-1</td>\n",
       "      <td>MHCI</td>\n",
       "    </tr>\n",
       "    <tr>\n",
       "      <th>3</th>\n",
       "      <td>CAVKASGSRLT</td>\n",
       "      <td>CASSYEPGQVSHYSNQPQHF</td>\n",
       "      <td>FLKEKGGL</td>\n",
       "      <td>HIV-1</td>\n",
       "      <td>MHCI</td>\n",
       "    </tr>\n",
       "    <tr>\n",
       "      <th>4</th>\n",
       "      <td>CAYRPPGTYKYIF</td>\n",
       "      <td>CASSALASLNEQFF</td>\n",
       "      <td>FLKEKGGL</td>\n",
       "      <td>HIV-1</td>\n",
       "      <td>MHCI</td>\n",
       "    </tr>\n",
       "    <tr>\n",
       "      <th>5</th>\n",
       "      <td>CIVRAPGRADMRF</td>\n",
       "      <td>CASSYLPGQGDHYSNQPQHF</td>\n",
       "      <td>FLKEQGGL</td>\n",
       "      <td>HIV-1</td>\n",
       "      <td>MHCI</td>\n",
       "    </tr>\n",
       "  </tbody>\n",
       "</table>\n",
       "</div>"
      ],
      "text/plain": [
       "       cdr3.alpha             cdr3.beta antigen.epitope antigen.species  \\\n",
       "0   CIVRAPGRADMRF  CASSYLPGQGDHYSNQPQHF        FLKEKGGL           HIV-1   \n",
       "2  CAVPSGAGSYQLTF   CASSFEPGQGFYSNQPQHF        FLKEKGGL           HIV-1   \n",
       "3     CAVKASGSRLT  CASSYEPGQVSHYSNQPQHF        FLKEKGGL           HIV-1   \n",
       "4   CAYRPPGTYKYIF        CASSALASLNEQFF        FLKEKGGL           HIV-1   \n",
       "5   CIVRAPGRADMRF  CASSYLPGQGDHYSNQPQHF        FLKEQGGL           HIV-1   \n",
       "\n",
       "  mhc.class  \n",
       "0      MHCI  \n",
       "2      MHCI  \n",
       "3      MHCI  \n",
       "4      MHCI  \n",
       "5      MHCI  "
      ]
     },
     "execution_count": 18,
     "metadata": {},
     "output_type": "execute_result"
    }
   ],
   "source": [
    "## load dataset & filter out missing data\n",
    "# dbfile = pd.read_csv('./Data/vdjdb.slim.txt', sep='\\t')\n",
    "dbfile = pd.read_csv('./Data/VDJDB/vdjdb_full.txt', sep='\\t')\n",
    "# print(dbfile.columns)\n",
    "dbfile = dbfile[['cdr3.alpha', 'cdr3.beta','antigen.epitope','antigen.species',\"mhc.class\"]]\n",
    "print(dbfile.shape)\n",
    "dbfile = dbfile.dropna(subset=['cdr3.alpha', 'cdr3.beta','antigen.epitope'])\n",
    "print(dbfile.shape)\n",
    "dbfile.head()"
   ]
  },
  {
   "cell_type": "code",
   "execution_count": 19,
   "metadata": {},
   "outputs": [
    {
     "name": "stderr",
     "output_type": "stream",
     "text": [
      "C:\\Users\\croco\\AppData\\Local\\Temp\\ipykernel_15540\\605436328.py:1: DtypeWarning: Columns (8,10,11,13,15,16,17,18,19,20,21,22,23,24,25,30,31,36,37,42,44,45,46,47,48,49,50,51,52,53,54,59,60,65,66) have mixed types. Specify dtype option on import or set low_memory=False.\n",
      "  iedbfile = pd.read_csv('./Data/IEDB/tcell_receptor_table_export_1668026760.csv')\n"
     ]
    },
    {
     "name": "stdout",
     "output_type": "stream",
     "text": [
      "(205824, 4)\n",
      "(25927, 4)\n"
     ]
    },
    {
     "data": {
      "text/html": [
       "<div>\n",
       "<style scoped>\n",
       "    .dataframe tbody tr th:only-of-type {\n",
       "        vertical-align: middle;\n",
       "    }\n",
       "\n",
       "    .dataframe tbody tr th {\n",
       "        vertical-align: top;\n",
       "    }\n",
       "\n",
       "    .dataframe thead th {\n",
       "        text-align: right;\n",
       "    }\n",
       "</style>\n",
       "<table border=\"1\" class=\"dataframe\">\n",
       "  <thead>\n",
       "    <tr style=\"text-align: right;\">\n",
       "      <th></th>\n",
       "      <th>Chain 1 CDR3 Curated</th>\n",
       "      <th>Chain 2 CDR3 Curated</th>\n",
       "      <th>Description</th>\n",
       "      <th>Organism</th>\n",
       "    </tr>\n",
       "  </thead>\n",
       "  <tbody>\n",
       "    <tr>\n",
       "      <th>0</th>\n",
       "      <td>IVVRSSNTGKLI</td>\n",
       "      <td>ASSQDRDTQY</td>\n",
       "      <td>VMAPRTLIL</td>\n",
       "      <td>Homo sapiens (human)</td>\n",
       "    </tr>\n",
       "    <tr>\n",
       "      <th>80</th>\n",
       "      <td>CAVTTDSWGKLQF</td>\n",
       "      <td>CASRPGLAGGRPEQYF</td>\n",
       "      <td>LLFGYPVYV</td>\n",
       "      <td>Human T-cell leukemia virus type I (Human T ce...</td>\n",
       "    </tr>\n",
       "    <tr>\n",
       "      <th>82</th>\n",
       "      <td>CAVTTDSWGKLQF</td>\n",
       "      <td>CASRPGLMSAQPEQYF</td>\n",
       "      <td>LLFGYPVYV</td>\n",
       "      <td>Human T-cell leukemia virus type I (Human T ce...</td>\n",
       "    </tr>\n",
       "    <tr>\n",
       "      <th>109</th>\n",
       "      <td>CAVRPTSGGSYIPTF</td>\n",
       "      <td>CASSYVGNTGELFF</td>\n",
       "      <td>SLLMWITQC</td>\n",
       "      <td>Homo sapiens (human)</td>\n",
       "    </tr>\n",
       "    <tr>\n",
       "      <th>202</th>\n",
       "      <td>TVYGGATNKLI</td>\n",
       "      <td>SARGGSYNSPLH</td>\n",
       "      <td>LSRFSWGAEGQRPGFGYGG</td>\n",
       "      <td>Homo sapiens (human)</td>\n",
       "    </tr>\n",
       "  </tbody>\n",
       "</table>\n",
       "</div>"
      ],
      "text/plain": [
       "    Chain 1 CDR3 Curated Chain 2 CDR3 Curated          Description  \\\n",
       "0           IVVRSSNTGKLI           ASSQDRDTQY            VMAPRTLIL   \n",
       "80         CAVTTDSWGKLQF     CASRPGLAGGRPEQYF            LLFGYPVYV   \n",
       "82         CAVTTDSWGKLQF     CASRPGLMSAQPEQYF            LLFGYPVYV   \n",
       "109      CAVRPTSGGSYIPTF       CASSYVGNTGELFF            SLLMWITQC   \n",
       "202          TVYGGATNKLI         SARGGSYNSPLH  LSRFSWGAEGQRPGFGYGG   \n",
       "\n",
       "                                              Organism  \n",
       "0                                 Homo sapiens (human)  \n",
       "80   Human T-cell leukemia virus type I (Human T ce...  \n",
       "82   Human T-cell leukemia virus type I (Human T ce...  \n",
       "109                               Homo sapiens (human)  \n",
       "202                               Homo sapiens (human)  "
      ]
     },
     "execution_count": 19,
     "metadata": {},
     "output_type": "execute_result"
    }
   ],
   "source": [
    "iedbfile = pd.read_csv('./Data/IEDB/tcell_receptor_table_export_1668026760.csv')\n",
    "# print(iedbfile.columns)\n",
    "# Chain 1 Full Sequence', 'Chain 1 Accession', 'Chain 1 CDR3 Curated',\n",
    "#        'Chain 1 CDR3 Calculated'\n",
    "iedbfile = iedbfile[['Chain 1 CDR3 Curated','Chain 2 CDR3 Curated',\"Description\",\"Organism\"]]\n",
    "print(iedbfile.shape)\n",
    "iedbfile = iedbfile.dropna(subset=['Chain 1 CDR3 Curated','Chain 2 CDR3 Curated',\"Description\"])\n",
    "iedbfile.Description = iedbfile.Description.str.split(' ').str[0]\n",
    "iedbfile = iedbfile[~iedbfile.Description.str.contains('[^ARNDCQEGHILKMFPSTWYV]',na=False)]\n",
    "print(iedbfile.shape)\n",
    "iedbfile.head()"
   ]
  },
  {
   "cell_type": "code",
   "execution_count": 20,
   "metadata": {},
   "outputs": [],
   "source": [
    "# mixeddb = "
   ]
  },
  {
   "cell_type": "code",
   "execution_count": 21,
   "metadata": {},
   "outputs": [],
   "source": [
    "# print(len(train['antigen.epitope']))\n",
    "# print(sum(train['antigen.epitope']==\"GILGFVFTL\"))\n",
    "# for i in set(train['antigen.epitope']):\n",
    "#     train['antigen.epitope'].count(i)\n",
    "dbfile = dbfile.drop_duplicates(subset=['cdr3.alpha', 'cdr3.beta','antigen.epitope'])\n",
    "dbfile = dbfile.drop(dbfile.query('`antigen.epitope` == \"KLGGALQAK\"').sample(frac=.87).index)"
   ]
  },
  {
   "cell_type": "markdown",
   "metadata": {},
   "source": [
    "## Encoding & split sets"
   ]
  },
  {
   "cell_type": "code",
   "execution_count": 22,
   "metadata": {},
   "outputs": [],
   "source": [
    "from functions import load\n",
    "# from functions.load import enc_list_bl_max_len, positional_coding, blosum50_20aa "
   ]
  },
  {
   "cell_type": "code",
   "execution_count": 23,
   "metadata": {},
   "outputs": [
    {
     "data": {
      "text/plain": [
       "<module 'functions.load' from 'c:\\\\Users\\\\croco\\\\OneDrive - Emory University\\\\Courses\\\\BMI 536 Deep Learning\\\\FinalProj\\\\functions\\\\load.py'>"
      ]
     },
     "execution_count": 23,
     "metadata": {},
     "output_type": "execute_result"
    }
   ],
   "source": [
    "from importlib import reload\n",
    "reload(load)"
   ]
  },
  {
   "cell_type": "code",
   "execution_count": 24,
   "metadata": {},
   "outputs": [
    {
     "name": "stdout",
     "output_type": "stream",
     "text": [
      "0     CIVRAPGRADMRF\n",
      "2    CAVPSGAGSYQLTF\n",
      "Name: cdr3.alpha, dtype: object\n"
     ]
    },
    {
     "data": {
      "text/plain": [
       "(2, 32, 20)"
      ]
     },
     "execution_count": 24,
     "metadata": {},
     "output_type": "execute_result"
    }
   ],
   "source": [
    "print(dbfile.head(n=2)[\"cdr3.alpha\"])\n",
    "load.enc_list_bl_max_len(dbfile.head(n=2)[\"cdr3.alpha\"],32).shape"
   ]
  },
  {
   "cell_type": "code",
   "execution_count": 25,
   "metadata": {},
   "outputs": [],
   "source": [
    "tokens = load.blosum50_20aa.keys()\n",
    "\n",
    "tokens = list(tokens)\n",
    "tokens.insert(0, '.')\n",
    "tokens.insert(1, '>')\n",
    "tokens.insert(2, '<')\n",
    "tk_dict = defaultdict(lambda: None)\n",
    "for idx in range(len(tokens)):\n",
    "    tk_dict[tokens[idx]]=idx\n",
    "vocabSize=23"
   ]
  },
  {
   "cell_type": "code",
   "execution_count": 26,
   "metadata": {},
   "outputs": [
    {
     "data": {
      "text/plain": [
       "(52, 30)"
      ]
     },
     "execution_count": 26,
     "metadata": {},
     "output_type": "execute_result"
    }
   ],
   "source": [
    "load.positional_coding(dbfile.head(n=52)[\"cdr3.alpha\"],tk_dict,30).shape\n",
    "load.positional_coding(iedbfile.head(n=52)[\"Chain 1 CDR3 Curated\"],tk_dict,30).shape"
   ]
  },
  {
   "cell_type": "code",
   "execution_count": 27,
   "metadata": {},
   "outputs": [],
   "source": [
    "from sklearn.model_selection import train_test_split"
   ]
  },
  {
   "cell_type": "code",
   "execution_count": 28,
   "metadata": {},
   "outputs": [],
   "source": [
    "train, test = train_test_split(dbfile[dbfile['antigen.epitope'].str.len()<=12], shuffle=True ,test_size=0.2)"
   ]
  },
  {
   "cell_type": "code",
   "execution_count": 29,
   "metadata": {},
   "outputs": [
    {
     "data": {
      "text/plain": [
       "array([ 1.,  7., 12., 22.,  4.,  3., 17., 10.,  4.,  3.,  6., 15.,  4.,\n",
       "       16.,  2.,  0.,  0.,  0.,  0.,  0.,  0.,  0.,  0.,  0.,  0.,  0.,\n",
       "        0.,  0.,  0.,  0.,  1.,  7.,  3., 18., 18., 21., 13., 17., 10.,\n",
       "        8., 10.,  6., 11., 21., 18.,  5.,  8., 17.,  8., 11., 16.,  2.,\n",
       "        0.,  0.,  0.,  0.,  0.,  0.,  0.,  0.])"
      ]
     },
     "execution_count": 29,
     "metadata": {},
     "output_type": "execute_result"
    }
   ],
   "source": [
    "np.concatenate(load.positional_coding((\"CIVRAPGRADMRF\",\"CASSYLPGQGDHYSNQPQHF\"), tk_dict, 30)) #CIVRAPGRADMRF\tCASSYLPGQGDHYSNQPQHF\tFLKEKGGL\t"
   ]
  },
  {
   "cell_type": "markdown",
   "metadata": {},
   "source": [
    "## to datasets"
   ]
  },
  {
   "cell_type": "code",
   "execution_count": 30,
   "metadata": {},
   "outputs": [
    {
     "data": {
      "text/plain": [
       "GILGFVFTL     1900\n",
       "KLGGALQAK     1812\n",
       "AVFDRKSDAK    1757\n",
       "RAKFKQLL      1216\n",
       "IVTDFSVIK      718\n",
       "              ... \n",
       "MLFSHGLVK        1\n",
       "EMLFSHGLVK       1\n",
       "TLREIRRYQK       1\n",
       "WSYDSTLLAY       1\n",
       "YYTSNPTTF        1\n",
       "Name: antigen.epitope, Length: 949, dtype: int64"
      ]
     },
     "execution_count": 30,
     "metadata": {},
     "output_type": "execute_result"
    }
   ],
   "source": [
    "dbfile['antigen.epitope'].value_counts()"
   ]
  },
  {
   "cell_type": "code",
   "execution_count": 31,
   "metadata": {},
   "outputs": [
    {
     "name": "stdout",
     "output_type": "stream",
     "text": [
      "(12687, 13) (12687, 32) (12687, 32) (12687, 64)\n"
     ]
    }
   ],
   "source": [
    "ept_train = load.ept_coding(train['antigen.epitope'], tk_dict, 13,train=True)\n",
    "tcra_train = load.positional_coding(train[\"cdr3.alpha\"], tk_dict, 32)\n",
    "tcrb_train = load.positional_coding(train[\"cdr3.beta\"], tk_dict, 32)\n",
    "# ept_train = np.roll(ept_train, 1)\n",
    "ept_train_lb = load.ept_coding(train['antigen.epitope'], tk_dict, 13,label=True)\n",
    "tcr_train = np.concatenate((tcra_train,tcrb_train),axis=1)\n",
    "print(ept_train.shape, tcra_train.shape, tcrb_train.shape,tcr_train.shape)\n",
    "ept_test = load.ept_coding(test['antigen.epitope'], tk_dict, 13,train=True)\n",
    "tcra_test = load.positional_coding(test[\"cdr3.alpha\"], tk_dict, 32)\n",
    "tcrb_test = load.positional_coding(test[\"cdr3.beta\"], tk_dict, 32)\n",
    "tcr_test = np.concatenate((tcra_test,tcrb_test),axis=1)\n",
    "# ept_train = np.roll(ept_train, 1)\n",
    "ept_test_lb = load.ept_coding(test['antigen.epitope'], tk_dict, 13,label=True)"
   ]
  },
  {
   "cell_type": "code",
   "execution_count": 32,
   "metadata": {},
   "outputs": [],
   "source": [
    "tcr_train = tf.convert_to_tensor(tcr_train)\n",
    "ept_train = tf.convert_to_tensor(ept_train)\n",
    "ept_train_lb = tf.convert_to_tensor(ept_train_lb)\n",
    "tcr_test = tf.convert_to_tensor(tcr_test)\n",
    "ept_test = tf.convert_to_tensor(ept_test)\n",
    "ept_test_lb = tf.convert_to_tensor(ept_test_lb)"
   ]
  },
  {
   "cell_type": "code",
   "execution_count": 85,
   "metadata": {},
   "outputs": [],
   "source": [
    "dbfile = dbfile[dbfile['antigen.epitope'].str.len()<=12]\n",
    "ept_db = load.ept_coding(dbfile['antigen.epitope'], tk_dict, 13,train=True)\n",
    "ept_db_lb = load.ept_coding(dbfile['antigen.epitope'], tk_dict, 13,label=True)\n",
    "tcra_db = load.positional_coding(dbfile[\"cdr3.alpha\"], tk_dict, 32)\n",
    "tcrb_db = load.positional_coding(dbfile[\"cdr3.beta\"], tk_dict, 32)\n",
    "tcr_db = np.concatenate((tcra_db,tcrb_db),axis=1)\n",
    "\n",
    "ept_db = tf.convert_to_tensor(ept_db)\n",
    "tcr_db = tf.convert_to_tensor(tcr_db)\n",
    "ept_db_lb = tf.convert_to_tensor(ept_db_lb)\n",
    "# tcrb_db = tf.convert_to_tensor(tcrb_db)"
   ]
  },
  {
   "cell_type": "markdown",
   "metadata": {},
   "source": [
    "# Model"
   ]
  },
  {
   "cell_type": "markdown",
   "metadata": {},
   "source": [
    "## Model Input"
   ]
  },
  {
   "cell_type": "code",
   "execution_count": 37,
   "metadata": {},
   "outputs": [],
   "source": [
    "import tensorflow as tf\n",
    "import matplotlib.pyplot as plt"
   ]
  },
  {
   "cell_type": "code",
   "execution_count": 38,
   "metadata": {},
   "outputs": [],
   "source": [
    "from functions import model\n",
    "# reload(model)"
   ]
  },
  {
   "cell_type": "code",
   "execution_count": 39,
   "metadata": {},
   "outputs": [],
   "source": [
    "BUFFER_SIZE = 20000\n",
    "BATCH_SIZE = 64\n",
    "MAX_TOKENS = 32\n",
    "\n",
    "\n",
    "def make_batches(ds):\n",
    "  return (\n",
    "      ds\n",
    "      .shuffle(BUFFER_SIZE)\n",
    "      .batch(BATCH_SIZE)\n",
    "      .prefetch(buffer_size=tf.data.AUTOTUNE))"
   ]
  },
  {
   "cell_type": "code",
   "execution_count": null,
   "metadata": {},
   "outputs": [],
   "source": [
    "dataset = tf.data.Dataset.from_tensor_slices(((tcr_train,ept_train),ept_train_lb))\n",
    "dataset = make_batches(dataset)\n",
    "dataset_val = tf.data.Dataset.from_tensor_slices(((tcr_test, ept_test),ept_test_lb))\n",
    "dataset_val = make_batches(dataset_val)"
   ]
  },
  {
   "cell_type": "markdown",
   "metadata": {},
   "source": [
    "## test parameters"
   ]
  },
  {
   "cell_type": "code",
   "execution_count": null,
   "metadata": {},
   "outputs": [
    {
     "name": "stdout",
     "output_type": "stream",
     "text": [
      "(64, 64)\n",
      "(64, 13)\n",
      "(64, 13)\n"
     ]
    }
   ],
   "source": [
    "for (tcr, ept), ept_lb in dataset.take(2):\n",
    "  break\n",
    "\n",
    "print(tcr.shape)\n",
    "print(ept.shape)\n",
    "print(ept_lb.shape)"
   ]
  },
  {
   "cell_type": "code",
   "execution_count": null,
   "metadata": {},
   "outputs": [
    {
     "name": "stdout",
     "output_type": "stream",
     "text": [
      ">CAVSANYAQGLTF<.................>CASGDDSAETLYF<.................\n",
      ">SSYRRPVGI...\n",
      "tf.Tensor([ 1.  4.  8. 13. 13. 16. 22. 22.  9. 22.  0.  0.  0.], shape=(13,), dtype=float64)\n",
      "tf.Tensor([ 4.  8. 13. 13. 16. 22. 22.  9. 22.  2.  0.  0.  0.], shape=(13,), dtype=float64)\n"
     ]
    }
   ],
   "source": [
    "print(model.tk2seq(tcr[2],tokens))\n",
    "print(model.tk2seq(ept[2],tokens))\n",
    "print(ept[0])\n",
    "print(ept_lb[0])"
   ]
  },
  {
   "cell_type": "code",
   "execution_count": 65,
   "metadata": {},
   "outputs": [
    {
     "data": {
      "image/png": "[encoded data removed]",
      "text/plain": [
       "<Figure size 640x480 with 2 Axes>"
      ]
     },
     "metadata": {},
     "output_type": "display_data"
    }
   ],
   "source": [
    "plt.pcolormesh(model.positional_encoding(21,512).numpy().T, cmap='RdBu')\n",
    "plt.ylabel('Depth')\n",
    "plt.xlabel('Position')\n",
    "plt.colorbar()\n",
    "plt.show()"
   ]
  },
  {
   "cell_type": "code",
   "execution_count": 63,
   "metadata": {},
   "outputs": [
    {
     "ename": "TypeError",
     "evalue": "positional_coding() missing 1 required positional argument: 'max_seq_len'",
     "output_type": "error",
     "traceback": [
      "\u001b[1;31m---------------------------------------------------------------------------\u001b[0m",
      "\u001b[1;31mTypeError\u001b[0m                                 Traceback (most recent call last)",
      "Cell \u001b[1;32mIn [63], line 7\u001b[0m\n\u001b[0;32m      2\u001b[0m embed_ept \u001b[39m=\u001b[39m model\u001b[39m.\u001b[39mPositionalEmbedding(vocab_size\u001b[39m=\u001b[39mvocabSize, d_model\u001b[39m=\u001b[39m\u001b[39m512\u001b[39m)\n\u001b[0;32m      4\u001b[0m \u001b[39m# tcr_emb = embed_tcr(tcr)\u001b[39;00m\n\u001b[0;32m      5\u001b[0m \u001b[39m# ept_emb = embed_ept(ept)\u001b[39;00m\n\u001b[0;32m      6\u001b[0m \u001b[39m# print(tcr_emb._keras_mask)\u001b[39;00m\n\u001b[1;32m----> 7\u001b[0m plt\u001b[39m.\u001b[39mpcolormesh(model\u001b[39m.\u001b[39;49mpositional_coding(\u001b[39m21\u001b[39;49m,\u001b[39m512\u001b[39;49m)\u001b[39m.\u001b[39mnumpy()\u001b[39m.\u001b[39mT, cmap\u001b[39m=\u001b[39m\u001b[39m'\u001b[39m\u001b[39mRdBu\u001b[39m\u001b[39m'\u001b[39m)\n\u001b[0;32m      8\u001b[0m plt\u001b[39m.\u001b[39mylabel(\u001b[39m'\u001b[39m\u001b[39mDepth\u001b[39m\u001b[39m'\u001b[39m)\n\u001b[0;32m      9\u001b[0m plt\u001b[39m.\u001b[39mxlabel(\u001b[39m'\u001b[39m\u001b[39mPosition\u001b[39m\u001b[39m'\u001b[39m)\n",
      "\u001b[1;31mTypeError\u001b[0m: positional_coding() missing 1 required positional argument: 'max_seq_len'"
     ]
    }
   ],
   "source": [
    "embed_tcr = model.PositionalEmbedding(vocab_size=vocabSize, d_model=512)\n",
    "embed_ept = model.PositionalEmbedding(vocab_size=vocabSize, d_model=512)\n",
    "\n",
    "tcr_emb = embed_tcr(tcr)\n",
    "ept_emb = embed_ept(ept)\n",
    "# print(tcr_emb._keras_mask)\n"
   ]
  },
  {
   "cell_type": "code",
   "execution_count": null,
   "metadata": {},
   "outputs": [],
   "source": [
    "plt.pcolormesh(pos_encoding.numpy().T, cmap='RdBu')\n",
    "plt.ylabel('Depth')\n",
    "plt.xlabel('Position')\n",
    "plt.colorbar()\n",
    "plt.show()"
   ]
  },
  {
   "cell_type": "code",
   "execution_count": null,
   "metadata": {},
   "outputs": [
    {
     "name": "stdout",
     "output_type": "stream",
     "text": [
      "(64, 64)\n",
      "(64, 64, 512)\n"
     ]
    }
   ],
   "source": [
    "sample_encoder = model.Encoder(num_layers=4,\n",
    "                         d_model=512,\n",
    "                         num_heads=8,\n",
    "                         dff=2048,\n",
    "                         vocab_size=vocabSize)\n",
    "\n",
    "sample_encoder_output = sample_encoder(tcr, training=False)\n",
    "print(tcr.shape)\n",
    "print(sample_encoder_output.shape)"
   ]
  },
  {
   "cell_type": "markdown",
   "metadata": {},
   "source": [
    "## model"
   ]
  },
  {
   "cell_type": "code",
   "execution_count": 41,
   "metadata": {},
   "outputs": [],
   "source": [
    "num_layers = 4\n",
    "d_model = 128\n",
    "dff = 512\n",
    "num_heads = 8\n",
    "dropout_rate = 0.1"
   ]
  },
  {
   "cell_type": "code",
   "execution_count": null,
   "metadata": {},
   "outputs": [],
   "source": [
    "transformer = model.Transformer(\n",
    "    num_layers=num_layers,\n",
    "    d_model=d_model,\n",
    "    num_heads=num_heads,\n",
    "    dff=dff,\n",
    "    input_vocab_size=np.int64(vocabSize),\n",
    "    target_vocab_size=np.int64(vocabSize),\n",
    "    dropout_rate=dropout_rate)"
   ]
  },
  {
   "cell_type": "code",
   "execution_count": 435,
   "metadata": {},
   "outputs": [
    {
     "name": "stdout",
     "output_type": "stream",
     "text": [
      "(64, 64)\n",
      "(64, 13)\n",
      "(64, 13, 23)\n",
      "(64, 8, 13, 64)\n"
     ]
    }
   ],
   "source": [
    "output = transformer((tcr, ept))\n",
    "\n",
    "print(tcr.shape)\n",
    "print(ept.shape)\n",
    "print(output.shape)\n",
    "\n",
    "attn_scores = transformer.decoder.dec_layers[-1].last_attn_scores\n",
    "print(attn_scores.shape)  # (batch, heads, target_seq, input_seq)"
   ]
  },
  {
   "cell_type": "code",
   "execution_count": 436,
   "metadata": {},
   "outputs": [],
   "source": [
    "learning_rate = model.CustomSchedule(d_model)\n",
    "\n",
    "optimizer = tf.keras.optimizers.Adam(learning_rate, beta_1=0.9, beta_2=0.98,\n",
    "                                     epsilon=1e-9)\n",
    "\n",
    "# plt.plot(learning_rate(tf.range(40000, dtype=tf.float32)))\n",
    "# plt.ylabel('Learning Rate')\n",
    "# plt.xlabel('Train Step')"
   ]
  },
  {
   "cell_type": "code",
   "execution_count": 437,
   "metadata": {},
   "outputs": [],
   "source": [
    "transformer.compile(\n",
    "    loss=model.masked_loss,\n",
    "    optimizer=optimizer,\n",
    "    metrics=[model.masked_accuracy])"
   ]
  },
  {
   "cell_type": "code",
   "execution_count": 438,
   "metadata": {},
   "outputs": [
    {
     "name": "stdout",
     "output_type": "stream",
     "text": [
      "Model: \"transformer_7\"\n",
      "_________________________________________________________________\n",
      " Layer (type)                Output Shape              Param #   \n",
      "=================================================================\n",
      " encoder_15 (Encoder)        multiple                  2641792   \n",
      "                                                                 \n",
      " decoder_7 (Decoder)         multiple                  4752768   \n",
      "                                                                 \n",
      " dense_199 (Dense)           multiple                  2967      \n",
      "                                                                 \n",
      "=================================================================\n",
      "Total params: 7,397,527\n",
      "Trainable params: 7,397,527\n",
      "Non-trainable params: 0\n",
      "_________________________________________________________________\n"
     ]
    }
   ],
   "source": [
    "transformer.summary()"
   ]
  },
  {
   "cell_type": "code",
   "execution_count": 439,
   "metadata": {},
   "outputs": [
    {
     "name": "stdout",
     "output_type": "stream",
     "text": [
      "Epoch 1/20\n",
      "199/199 [==============================] - 75s 372ms/step - loss: 2.4620 - masked_accuracy: 0.2961 - val_loss: 1.4798 - val_masked_accuracy: 0.5874\n",
      "Epoch 2/20\n",
      "199/199 [==============================] - 72s 364ms/step - loss: 1.2871 - masked_accuracy: 0.6545 - val_loss: 0.9050 - val_masked_accuracy: 0.7584\n",
      "Epoch 3/20\n",
      "199/199 [==============================] - 73s 368ms/step - loss: 0.8625 - masked_accuracy: 0.7668 - val_loss: 0.6947 - val_masked_accuracy: 0.8089\n",
      "Epoch 4/20\n",
      "199/199 [==============================] - 73s 367ms/step - loss: 0.6913 - masked_accuracy: 0.8075 - val_loss: 0.6121 - val_masked_accuracy: 0.8284\n",
      "Epoch 5/20\n",
      "199/199 [==============================] - 73s 365ms/step - loss: 0.6136 - masked_accuracy: 0.8264 - val_loss: 0.5646 - val_masked_accuracy: 0.8396\n",
      "Epoch 6/20\n",
      "199/199 [==============================] - 73s 365ms/step - loss: 0.5640 - masked_accuracy: 0.8391 - val_loss: 0.5265 - val_masked_accuracy: 0.8497\n",
      "Epoch 7/20\n",
      "199/199 [==============================] - 72s 364ms/step - loss: 0.5287 - masked_accuracy: 0.8480 - val_loss: 0.4966 - val_masked_accuracy: 0.8606\n",
      "Epoch 8/20\n",
      "199/199 [==============================] - 72s 364ms/step - loss: 0.5012 - masked_accuracy: 0.8551 - val_loss: 0.4907 - val_masked_accuracy: 0.8639\n",
      "Epoch 9/20\n",
      "199/199 [==============================] - 73s 365ms/step - loss: 0.4828 - masked_accuracy: 0.8591 - val_loss: 0.4725 - val_masked_accuracy: 0.8671\n",
      "Epoch 10/20\n",
      "199/199 [==============================] - 72s 363ms/step - loss: 0.4687 - masked_accuracy: 0.8640 - val_loss: 0.4711 - val_masked_accuracy: 0.8678\n",
      "Epoch 11/20\n",
      "199/199 [==============================] - 73s 367ms/step - loss: 0.4615 - masked_accuracy: 0.8653 - val_loss: 0.4696 - val_masked_accuracy: 0.8659\n",
      "Epoch 12/20\n",
      "199/199 [==============================] - 73s 368ms/step - loss: 0.4521 - masked_accuracy: 0.8679 - val_loss: 0.4654 - val_masked_accuracy: 0.8711\n",
      "Epoch 13/20\n",
      "199/199 [==============================] - 73s 365ms/step - loss: 0.4488 - masked_accuracy: 0.8681 - val_loss: 0.4579 - val_masked_accuracy: 0.8709\n",
      "Epoch 14/20\n",
      "199/199 [==============================] - 72s 364ms/step - loss: 0.4486 - masked_accuracy: 0.8675 - val_loss: 0.4708 - val_masked_accuracy: 0.8658\n",
      "Epoch 15/20\n",
      "199/199 [==============================] - 73s 366ms/step - loss: 0.4471 - masked_accuracy: 0.8682 - val_loss: 0.4673 - val_masked_accuracy: 0.8701\n",
      "Epoch 16/20\n",
      "199/199 [==============================] - 73s 369ms/step - loss: 0.4651 - masked_accuracy: 0.8639 - val_loss: 0.4616 - val_masked_accuracy: 0.8679\n",
      "Epoch 17/20\n",
      "199/199 [==============================] - 73s 366ms/step - loss: 0.4595 - masked_accuracy: 0.8646 - val_loss: 0.4735 - val_masked_accuracy: 0.8647\n",
      "Epoch 18/20\n",
      "199/199 [==============================] - 72s 364ms/step - loss: 0.4758 - masked_accuracy: 0.8588 - val_loss: 0.5150 - val_masked_accuracy: 0.8538\n",
      "Epoch 19/20\n",
      "199/199 [==============================] - 72s 364ms/step - loss: 0.5051 - masked_accuracy: 0.8484 - val_loss: 0.5025 - val_masked_accuracy: 0.8523\n",
      "Epoch 20/20\n",
      "199/199 [==============================] - 74s 373ms/step - loss: 0.5213 - masked_accuracy: 0.8425 - val_loss: 0.5447 - val_masked_accuracy: 0.8408\n"
     ]
    }
   ],
   "source": [
    "history = transformer.fit(dataset,\n",
    "                epochs=20,\n",
    "                validation_data=dataset_val)"
   ]
  },
  {
   "cell_type": "markdown",
   "metadata": {},
   "source": [
    "## Translator"
   ]
  },
  {
   "cell_type": "code",
   "execution_count": 383,
   "metadata": {},
   "outputs": [
    {
     "data": {
      "text/plain": [
       "<module 'functions.model' from 'c:\\\\Users\\\\croco\\\\OneDrive - Emory University\\\\Courses\\\\BMI 536 Deep Learning\\\\FinalProj\\\\functions\\\\model.py'>"
      ]
     },
     "execution_count": 383,
     "metadata": {},
     "output_type": "execute_result"
    }
   ],
   "source": [
    "reload(model)"
   ]
  },
  {
   "cell_type": "code",
   "execution_count": 440,
   "metadata": {},
   "outputs": [],
   "source": [
    "translator = model.Translator(tk_dict, tokens, transformer)"
   ]
  },
  {
   "cell_type": "code",
   "execution_count": 70,
   "metadata": {},
   "outputs": [],
   "source": [
    "def print_translation(sentence, tokens, ground_truth):\n",
    "  print(f'{\"Input:\":15s}: {sentence}')\n",
    "  print(f'{\"Prediction\":15s}: {tokens}')\n",
    "  print(f'{\"Ground truth\":15s}: {ground_truth}')"
   ]
  },
  {
   "cell_type": "code",
   "execution_count": 442,
   "metadata": {},
   "outputs": [
    {
     "data": {
      "text/plain": [
       "'>CAEMEGGSYIPTF<.................>CASSQRPSEVGELFF<...............'"
      ]
     },
     "execution_count": 442,
     "metadata": {},
     "output_type": "execute_result"
    }
   ],
   "source": [
    "model.tk2seq(model.seq_pos_coding(sentence,tk_dict, 32),tokens)"
   ]
  },
  {
   "cell_type": "code",
   "execution_count": 443,
   "metadata": {},
   "outputs": [
    {
     "name": "stdout",
     "output_type": "stream",
     "text": [
      "Input:         : ('CIVRAPGRADMRF', 'CASSYLPGQGDHYSNQPQHF')\n",
      "Prediction     : ['>KLGGALQAK<<<<<']\n",
      "Ground truth   : FLKEKGGL\n"
     ]
    }
   ],
   "source": [
    "sentence = (\"CIVRAPGRADMRF\",\"CASSYLPGQGDHYSNQPQHF\")\t\t\n",
    "ground_truth = \"FLKEKGGL\"\n",
    "\n",
    "translated_text, attention_weights = translator(sentence,max_length=14)\n",
    "print_translation(sentence, translated_text, ground_truth)"
   ]
  },
  {
   "cell_type": "code",
   "execution_count": 444,
   "metadata": {},
   "outputs": [
    {
     "name": "stdout",
     "output_type": "stream",
     "text": [
      "Input:         : ('CAVQAEANNNARLMF', 'CASSYGGYNEQFF')\n",
      "Prediction     : ['>KLGGALQAK<<<<<']\n",
      "Ground truth   : KLGGALQAK\n"
     ]
    }
   ],
   "source": [
    "sentence = (\"CAVQAEANNNARLMF\",\"CASSYGGYNEQFF\")\t\t\n",
    "ground_truth = \"KLGGALQAK\"\n",
    "\n",
    "translated_text, attention_weights = translator(sentence,max_length=14)\n",
    "print_translation(sentence, translated_text, ground_truth)"
   ]
  },
  {
   "cell_type": "code",
   "execution_count": 451,
   "metadata": {},
   "outputs": [
    {
     "name": "stdout",
     "output_type": "stream",
     "text": [
      "Input:         : ('CAASGGGSQGNLIF', 'CASSTRSQETQYF')\n",
      "Prediction     : ['>KLGGALQAK<<<<<']\n",
      "Ground truth   : GILGFVFTL\n"
     ]
    }
   ],
   "source": [
    "sentence = (\"CAASGGGSQGNLIF\",\"CASSTRSQETQYF\")#(\"CAEMEGGSYIPTF\",\"CASSQRPSEVGELFF\")\t\t\n",
    "ground_truth = \"GILGFVFTL\"#\"RAKFKQLL\"\n",
    "\n",
    "translated_text, attention_weights = translator(sentence)\n",
    "print_translation(sentence, translated_text, ground_truth)"
   ]
  },
  {
   "cell_type": "code",
   "execution_count": 458,
   "metadata": {},
   "outputs": [
    {
     "name": "stderr",
     "output_type": "stream",
     "text": [
      "WARNING:absl:Found untraced functions such as positional_embedding_48_layer_call_fn, positional_embedding_48_layer_call_and_return_conditional_losses, dropout_218_layer_call_fn, dropout_218_layer_call_and_return_conditional_losses, positional_embedding_49_layer_call_fn while saving (showing 5 of 316). These functions will not be directly callable after loading.\n"
     ]
    },
    {
     "name": "stdout",
     "output_type": "stream",
     "text": [
      "INFO:tensorflow:Assets written to: models/mdl_vdj_3\\assets\n"
     ]
    },
    {
     "name": "stderr",
     "output_type": "stream",
     "text": [
      "INFO:tensorflow:Assets written to: models/mdl_vdj_3\\assets\n"
     ]
    }
   ],
   "source": [
    "tf.saved_model.save(transformer, \"models/mdl_vdj_3\")\n",
    "# model = tf.saved_model.load(\"models/mdl_vdj_1\")"
   ]
  },
  {
   "cell_type": "markdown",
   "metadata": {},
   "source": [
    "### plot attention"
   ]
  },
  {
   "cell_type": "code",
   "execution_count": 355,
   "metadata": {},
   "outputs": [],
   "source": [
    "def plot_attention_head(in_tokens, translated_tokens, attention):\n",
    "  # The model didn't generate `<START>` in the output. Skip it.\n",
    "  translated_tokens = translated_tokens[1:]\n",
    "\n",
    "  ax = plt.gca()\n",
    "  ax.matshow(attention)\n",
    "  ax.set_xticks(range(len(in_tokens)))\n",
    "  ax.set_yticks(range(len(translated_tokens)))\n",
    "\n",
    "  labels = [label.decode('utf-8') for label in in_tokens.numpy()]\n",
    "  ax.set_xticklabels(\n",
    "      labels, rotation=90)\n",
    "\n",
    "  labels = [label.decode('utf-8') for label in translated_tokens.numpy()]\n",
    "  ax.set_yticklabels(labels)"
   ]
  },
  {
   "cell_type": "code",
   "execution_count": 448,
   "metadata": {},
   "outputs": [
    {
     "data": {
      "text/plain": [
       "TensorShape([14, 64])"
      ]
     },
     "execution_count": 448,
     "metadata": {},
     "output_type": "execute_result"
    }
   ],
   "source": [
    "head = 0\n",
    "# Shape: `(batch=1, num_heads, seq_len_q, seq_len_k)`.\n",
    "attention_heads = tf.squeeze(attention_weights, 0)\n",
    "attention = attention_heads[head]\n",
    "attention.shape"
   ]
  },
  {
   "cell_type": "code",
   "execution_count": 449,
   "metadata": {},
   "outputs": [
    {
     "name": "stdout",
     "output_type": "stream",
     "text": [
      "tf.Tensor(\n",
      "[b'>' b'C' b'A' b'E' b'M' b'E' b'G' b'G' b'S' b'Y' b'I' b'P' b'T' b'F'\n",
      " b'<' b'.' b'.' b'.' b'.' b'.' b'.' b'.' b'.' b'.' b'.' b'.' b'.' b'.'\n",
      " b'.' b'.' b'.' b'.' b'>' b'C' b'A' b'S' b'S' b'Q' b'R' b'P' b'S' b'E'\n",
      " b'V' b'G' b'E' b'L' b'F' b'F' b'<' b'.' b'.' b'.' b'.' b'.' b'.' b'.'\n",
      " b'.' b'.' b'.' b'.' b'.' b'.' b'.' b'.'], shape=(64,), dtype=string)\n",
      "tf.Tensor(\n",
      "[b'>' b'K' b'L' b'G' b'G' b'A' b'L' b'Q' b'A' b'K' b'<' b'<' b'<' b'<'\n",
      " b'<'], shape=(15,), dtype=string)\n"
     ]
    }
   ],
   "source": [
    "in_tokens = model.seq_pos_coding(sentence,tk_dict,32)\n",
    "in_tokens = tf.convert_to_tensor([tokens[int(i)] for i in in_tokens])\n",
    "print(in_tokens)\n",
    "translated_tokens = tf.convert_to_tensor([i for i in translated_text[0]])\n",
    "print(translated_tokens)"
   ]
  },
  {
   "cell_type": "code",
   "execution_count": 450,
   "metadata": {},
   "outputs": [
    {
     "data": {
      "image/png": "[encoded data removed]",
      "text/plain": [
       "<Figure size 640x480 with 1 Axes>"
      ]
     },
     "metadata": {},
     "output_type": "display_data"
    }
   ],
   "source": [
    "plot_attention_head(in_tokens, translated_tokens, attention)"
   ]
  },
  {
   "cell_type": "code",
   "execution_count": 361,
   "metadata": {},
   "outputs": [],
   "source": [
    "def plot_attention_weights(in_tokens, translated_tokens, attention_heads):\n",
    "\n",
    "  fig = plt.figure(figsize=(16, 8))\n",
    "\n",
    "  for h, head in enumerate(attention_heads):\n",
    "    ax = fig.add_subplot(2, 4, h+1)\n",
    "\n",
    "    plot_attention_head(in_tokens, translated_tokens, head)\n",
    "\n",
    "    ax.set_xlabel(f'Head {h+1}')\n",
    "\n",
    "  plt.tight_layout()\n",
    "  plt.show()"
   ]
  },
  {
   "cell_type": "code",
   "execution_count": 362,
   "metadata": {},
   "outputs": [
    {
     "data": {
      "image/png": "[encoded data removed]",
      "text/plain": [
       "<Figure size 1600x800 with 8 Axes>"
      ]
     },
     "metadata": {},
     "output_type": "display_data"
    }
   ],
   "source": [
    "plot_attention_weights(in_tokens,\n",
    "                       translated_tokens,\n",
    "                       attention_weights[0])"
   ]
  },
  {
   "cell_type": "markdown",
   "metadata": {},
   "source": [
    "## export translator"
   ]
  },
  {
   "cell_type": "code",
   "execution_count": 459,
   "metadata": {},
   "outputs": [],
   "source": [
    "reload(model)\n",
    "tf.config.run_functions_eagerly(True)"
   ]
  },
  {
   "cell_type": "code",
   "execution_count": 460,
   "metadata": {},
   "outputs": [],
   "source": [
    "translator = model.ExportTranslator(translator)"
   ]
  },
  {
   "cell_type": "code",
   "execution_count": 461,
   "metadata": {},
   "outputs": [
    {
     "name": "stderr",
     "output_type": "stream",
     "text": [
      "WARNING:absl:Found untraced functions such as __call__, positional_embedding_48_layer_call_fn, positional_embedding_48_layer_call_and_return_conditional_losses, dropout_218_layer_call_fn, dropout_218_layer_call_and_return_conditional_losses while saving (showing 5 of 317). These functions will not be directly callable after loading.\n"
     ]
    },
    {
     "name": "stdout",
     "output_type": "stream",
     "text": [
      "INFO:tensorflow:Assets written to: models/translator\\assets\n"
     ]
    },
    {
     "name": "stderr",
     "output_type": "stream",
     "text": [
      "INFO:tensorflow:Assets written to: models/translator\\assets\n"
     ]
    }
   ],
   "source": [
    "tf.saved_model.save(translator, export_dir='models/translator')"
   ]
  },
  {
   "cell_type": "markdown",
   "metadata": {},
   "source": [
    "## CV"
   ]
  },
  {
   "cell_type": "code",
   "execution_count": 15,
   "metadata": {},
   "outputs": [],
   "source": [
    "from sklearn.model_selection import LeaveOneOut,KFold"
   ]
  },
  {
   "cell_type": "code",
   "execution_count": 40,
   "metadata": {},
   "outputs": [],
   "source": [
    "# ept_db, tcra_db, tcrb_db \n",
    "def make_dataset(tcr_db,ept_train,ept_lb_train,n_splits):\n",
    "\n",
    "    def gen():\n",
    "        for train_index, test_index in KFold(n_splits).split(ept_db):\n",
    "            tcr_train, tcr_test = tcr_db[train_index], tcr_db[test_index]\n",
    "            ept_lb_train, ept_lb_test = ept_db_lb[train_index], ept_db_lb[test_index]\n",
    "            ept_train, ept_test = ept_db[train_index], ept_db[test_index] \n",
    "            yield ((tcr_train,ept_train),ept_lb_train), ((tcr_test,ept_test),ept_lb_test)\n",
    "\n",
    "    return tf.data.Dataset.from_generator(gen)\n",
    "\n",
    "dataset=make_dataset(tcr_db,ept_db,ept_db_lb,5)"
   ]
  },
  {
   "cell_type": "code",
   "execution_count": 42,
   "metadata": {},
   "outputs": [],
   "source": [
    "def new_models():\n",
    "    transformer = model.Transformer(\n",
    "        num_layers=num_layers,\n",
    "        d_model=d_model,\n",
    "        num_heads=num_heads,\n",
    "        dff=dff,\n",
    "        input_vocab_size=np.int64(vocabSize),\n",
    "        target_vocab_size=np.int64(vocabSize),\n",
    "        dropout_rate=dropout_rate)\n",
    "    learning_rate = model.CustomSchedule(d_model)\n",
    "    optimizer = tf.keras.optimizers.Adam(learning_rate, beta_1=0.9, beta_2=0.98,\n",
    "                                    epsilon=1e-9)\n",
    "    transformer.compile(\n",
    "        loss=model.masked_loss,\n",
    "        optimizer=optimizer,\n",
    "        metrics=[model.masked_accuracy])\n",
    "    return(transformer)"
   ]
  },
  {
   "cell_type": "code",
   "execution_count": 77,
   "metadata": {},
   "outputs": [
    {
     "name": "stdout",
     "output_type": "stream",
     "text": [
      "Epoch 1/10\n",
      "199/199 [==============================] - 23s 81ms/step - loss: 2.4808 - masked_accuracy: 0.3037 - val_loss: 1.4977 - val_masked_accuracy: 0.5904\n",
      "Epoch 2/10\n",
      "199/199 [==============================] - 15s 74ms/step - loss: 1.2964 - masked_accuracy: 0.6504 - val_loss: 0.9347 - val_masked_accuracy: 0.7516\n",
      "Epoch 3/10\n",
      "199/199 [==============================] - 15s 76ms/step - loss: 0.8623 - masked_accuracy: 0.7694 - val_loss: 0.7139 - val_masked_accuracy: 0.8013\n",
      "Epoch 4/10\n",
      "199/199 [==============================] - 15s 75ms/step - loss: 0.6834 - masked_accuracy: 0.8099 - val_loss: 0.6206 - val_masked_accuracy: 0.8283\n",
      "Epoch 5/10\n",
      "199/199 [==============================] - 15s 76ms/step - loss: 0.6025 - masked_accuracy: 0.8300 - val_loss: 0.5789 - val_masked_accuracy: 0.8340\n",
      "Epoch 6/10\n",
      "199/199 [==============================] - 15s 74ms/step - loss: 0.5549 - masked_accuracy: 0.8413 - val_loss: 0.5363 - val_masked_accuracy: 0.8500\n",
      "Epoch 7/10\n",
      "199/199 [==============================] - 15s 75ms/step - loss: 0.5153 - masked_accuracy: 0.8527 - val_loss: 0.5046 - val_masked_accuracy: 0.8577\n",
      "Epoch 8/10\n",
      "199/199 [==============================] - 15s 75ms/step - loss: 0.4934 - masked_accuracy: 0.8578 - val_loss: 0.5036 - val_masked_accuracy: 0.8584\n",
      "Epoch 9/10\n",
      "199/199 [==============================] - 15s 75ms/step - loss: 0.4724 - masked_accuracy: 0.8635 - val_loss: 0.5006 - val_masked_accuracy: 0.8619\n",
      "Epoch 10/10\n",
      "199/199 [==============================] - 15s 75ms/step - loss: 0.4590 - masked_accuracy: 0.8657 - val_loss: 0.4805 - val_masked_accuracy: 0.8664\n",
      "Epoch 1/10\n",
      "199/199 [==============================] - 23s 83ms/step - loss: 2.5720 - masked_accuracy: 0.2841 - val_loss: 1.5676 - val_masked_accuracy: 0.5483\n",
      "Epoch 2/10\n",
      "199/199 [==============================] - 15s 76ms/step - loss: 1.3202 - masked_accuracy: 0.6449 - val_loss: 0.9337 - val_masked_accuracy: 0.7470\n",
      "Epoch 3/10\n",
      "199/199 [==============================] - 15s 75ms/step - loss: 0.8669 - masked_accuracy: 0.7657 - val_loss: 0.7053 - val_masked_accuracy: 0.8009\n",
      "Epoch 4/10\n",
      "199/199 [==============================] - 15s 76ms/step - loss: 0.6940 - masked_accuracy: 0.8078 - val_loss: 0.6134 - val_masked_accuracy: 0.8297\n",
      "Epoch 5/10\n",
      "199/199 [==============================] - 15s 75ms/step - loss: 0.6097 - masked_accuracy: 0.8281 - val_loss: 0.5604 - val_masked_accuracy: 0.8396\n",
      "Epoch 6/10\n",
      "199/199 [==============================] - 15s 76ms/step - loss: 0.5593 - masked_accuracy: 0.8407 - val_loss: 0.5318 - val_masked_accuracy: 0.8495\n",
      "Epoch 7/10\n",
      "199/199 [==============================] - 15s 76ms/step - loss: 0.5230 - masked_accuracy: 0.8505 - val_loss: 0.5033 - val_masked_accuracy: 0.8584\n",
      "Epoch 8/10\n",
      "199/199 [==============================] - 15s 76ms/step - loss: 0.4987 - masked_accuracy: 0.8565 - val_loss: 0.5041 - val_masked_accuracy: 0.8569\n",
      "Epoch 9/10\n",
      "199/199 [==============================] - 15s 76ms/step - loss: 0.4772 - masked_accuracy: 0.8619 - val_loss: 0.4805 - val_masked_accuracy: 0.8641\n",
      "Epoch 10/10\n",
      "199/199 [==============================] - 15s 75ms/step - loss: 0.4655 - masked_accuracy: 0.8640 - val_loss: 0.4705 - val_masked_accuracy: 0.8691\n",
      "Epoch 1/10\n",
      "199/199 [==============================] - 24s 83ms/step - loss: 2.4143 - masked_accuracy: 0.3134 - val_loss: 1.4659 - val_masked_accuracy: 0.6005\n",
      "Epoch 2/10\n",
      "199/199 [==============================] - 15s 76ms/step - loss: 1.3077 - masked_accuracy: 0.6497 - val_loss: 0.9161 - val_masked_accuracy: 0.7547\n",
      "Epoch 3/10\n",
      "199/199 [==============================] - 15s 76ms/step - loss: 0.8729 - masked_accuracy: 0.7667 - val_loss: 0.7029 - val_masked_accuracy: 0.8035\n",
      "Epoch 4/10\n",
      "199/199 [==============================] - 15s 76ms/step - loss: 0.6943 - masked_accuracy: 0.8084 - val_loss: 0.5961 - val_masked_accuracy: 0.8300\n",
      "Epoch 5/10\n",
      "199/199 [==============================] - 15s 76ms/step - loss: 0.6129 - masked_accuracy: 0.8271 - val_loss: 0.5613 - val_masked_accuracy: 0.8417\n",
      "Epoch 6/10\n",
      "199/199 [==============================] - 15s 78ms/step - loss: 0.5601 - masked_accuracy: 0.8409 - val_loss: 0.5292 - val_masked_accuracy: 0.8509\n",
      "Epoch 7/10\n",
      "199/199 [==============================] - 15s 78ms/step - loss: 0.5244 - masked_accuracy: 0.8494 - val_loss: 0.5016 - val_masked_accuracy: 0.8594\n",
      "Epoch 8/10\n",
      "199/199 [==============================] - 15s 77ms/step - loss: 0.4976 - masked_accuracy: 0.8561 - val_loss: 0.4666 - val_masked_accuracy: 0.8677\n",
      "Epoch 9/10\n",
      "199/199 [==============================] - 15s 77ms/step - loss: 0.4796 - masked_accuracy: 0.8611 - val_loss: 0.4565 - val_masked_accuracy: 0.8690\n",
      "Epoch 10/10\n",
      "199/199 [==============================] - 15s 78ms/step - loss: 0.4652 - masked_accuracy: 0.8645 - val_loss: 0.4724 - val_masked_accuracy: 0.8654\n",
      "Epoch 1/10\n",
      "199/199 [==============================] - 23s 85ms/step - loss: 2.5812 - masked_accuracy: 0.2734 - val_loss: 1.5216 - val_masked_accuracy: 0.5850\n",
      "Epoch 2/10\n",
      "199/199 [==============================] - 15s 77ms/step - loss: 1.3294 - masked_accuracy: 0.6418 - val_loss: 0.9384 - val_masked_accuracy: 0.7443\n",
      "Epoch 3/10\n",
      "199/199 [==============================] - 15s 77ms/step - loss: 0.8748 - masked_accuracy: 0.7654 - val_loss: 0.7092 - val_masked_accuracy: 0.8027\n",
      "Epoch 4/10\n",
      "199/199 [==============================] - 15s 77ms/step - loss: 0.6985 - masked_accuracy: 0.8067 - val_loss: 0.6067 - val_masked_accuracy: 0.8248\n",
      "Epoch 5/10\n",
      "199/199 [==============================] - 15s 77ms/step - loss: 0.6129 - masked_accuracy: 0.8263 - val_loss: 0.5737 - val_masked_accuracy: 0.8385\n",
      "Epoch 6/10\n",
      "199/199 [==============================] - 15s 77ms/step - loss: 0.5624 - masked_accuracy: 0.8392 - val_loss: 0.5246 - val_masked_accuracy: 0.8469\n",
      "Epoch 7/10\n",
      "199/199 [==============================] - 15s 77ms/step - loss: 0.5278 - masked_accuracy: 0.8485 - val_loss: 0.5112 - val_masked_accuracy: 0.8541\n",
      "Epoch 8/10\n",
      "199/199 [==============================] - 15s 77ms/step - loss: 0.5048 - masked_accuracy: 0.8547 - val_loss: 0.4981 - val_masked_accuracy: 0.8611\n",
      "Epoch 9/10\n",
      "199/199 [==============================] - 15s 77ms/step - loss: 0.4832 - masked_accuracy: 0.8591 - val_loss: 0.4822 - val_masked_accuracy: 0.8607\n",
      "Epoch 10/10\n",
      "199/199 [==============================] - 15s 77ms/step - loss: 0.4688 - masked_accuracy: 0.8636 - val_loss: 0.4781 - val_masked_accuracy: 0.8642\n",
      "Epoch 1/10\n",
      "199/199 [==============================] - 23s 83ms/step - loss: 2.4563 - masked_accuracy: 0.3073 - val_loss: 1.4981 - val_masked_accuracy: 0.5695\n",
      "Epoch 2/10\n",
      "199/199 [==============================] - 15s 76ms/step - loss: 1.3059 - masked_accuracy: 0.6497 - val_loss: 0.9352 - val_masked_accuracy: 0.7457\n",
      "Epoch 3/10\n",
      "199/199 [==============================] - 15s 77ms/step - loss: 0.8716 - masked_accuracy: 0.7661 - val_loss: 0.6896 - val_masked_accuracy: 0.8068\n",
      "Epoch 4/10\n",
      "199/199 [==============================] - 15s 76ms/step - loss: 0.6948 - masked_accuracy: 0.8069 - val_loss: 0.6135 - val_masked_accuracy: 0.8228\n",
      "Epoch 5/10\n",
      "199/199 [==============================] - 15s 76ms/step - loss: 0.6138 - masked_accuracy: 0.8262 - val_loss: 0.5494 - val_masked_accuracy: 0.8444\n",
      "Epoch 6/10\n",
      "199/199 [==============================] - 15s 77ms/step - loss: 0.5596 - masked_accuracy: 0.8391 - val_loss: 0.5181 - val_masked_accuracy: 0.8530\n",
      "Epoch 7/10\n",
      "199/199 [==============================] - 15s 76ms/step - loss: 0.5231 - masked_accuracy: 0.8497 - val_loss: 0.4958 - val_masked_accuracy: 0.8590\n",
      "Epoch 8/10\n",
      "199/199 [==============================] - 15s 77ms/step - loss: 0.4984 - masked_accuracy: 0.8565 - val_loss: 0.4760 - val_masked_accuracy: 0.8629\n",
      "Epoch 9/10\n",
      "199/199 [==============================] - 15s 76ms/step - loss: 0.4783 - masked_accuracy: 0.8615 - val_loss: 0.4812 - val_masked_accuracy: 0.8628\n",
      "Epoch 10/10\n",
      "199/199 [==============================] - 15s 76ms/step - loss: 0.4626 - masked_accuracy: 0.8651 - val_loss: 0.4670 - val_masked_accuracy: 0.8676\n"
     ]
    }
   ],
   "source": [
    "transformers=[]\n",
    "histories=[]\n",
    "trainidx = []\n",
    "testidx = []\n",
    "# kfold = KFold(n_splits=5, shuffle=True)\n",
    "for train_index, test_index in KFold(5,shuffle=True).split(ept_db):\n",
    "    trainidx.append(train_index)\n",
    "    testidx.append(testidx)\n",
    "    tcr_train, tcr_test = tf.gather(tcr_db,indices=train_index), tf.gather(tcr_db,indices=test_index)\n",
    "    ept_lb_train, ept_lb_test = tf.gather(ept_db_lb,indices=train_index), tf.gather(ept_db_lb,indices=test_index)\n",
    "    ept_train, ept_test = tf.gather(ept_db,indices=train_index), tf.gather(ept_db,indices=test_index)\n",
    "    trainset = tf.data.Dataset.from_tensor_slices(((tcr_train,ept_train),ept_lb_train))\n",
    "    trainset = make_batches(trainset)\n",
    "    testset = tf.data.Dataset.from_tensor_slices(((tcr_test,ept_test),ept_lb_test))\n",
    "    testset = make_batches(testset)\n",
    "    subtransformer = new_models()\n",
    "    history = subtransformer.fit(trainset,\n",
    "                epochs=10,\n",
    "                validation_data=testset)\n",
    "    histories.append(history)\n",
    "    transformers.append(subtransformer)\n",
    "    "
   ]
  },
  {
   "cell_type": "code",
   "execution_count": 78,
   "metadata": {},
   "outputs": [
    {
     "data": {
      "image/png": "[encoded data removed]",
      "text/plain": [
       "<Figure size 640x480 with 1 Axes>"
      ]
     },
     "metadata": {},
     "output_type": "display_data"
    }
   ],
   "source": [
    "for history in histories:\n",
    "    plt.plot(history.history['val_loss'])\n",
    "plt.title('model loss')\n",
    "plt.ylabel('loss')\n",
    "plt.xlabel('epoch')\n",
    "plt.legend(['CV%d'%(i+1) for i in range(5)], loc='upper left')\n",
    "plt.show()"
   ]
  },
  {
   "cell_type": "code",
   "execution_count": 79,
   "metadata": {},
   "outputs": [
    {
     "data": {
      "image/png": "[encoded data removed]",
      "text/plain": [
       "<Figure size 640x480 with 1 Axes>"
      ]
     },
     "metadata": {},
     "output_type": "display_data"
    }
   ],
   "source": [
    "for history in histories:\n",
    "    plt.plot(history.history['val_masked_accuracy'])\n",
    "plt.title('masked_accuracy')\n",
    "plt.ylabel('validation masked accuracy')\n",
    "plt.xlabel('epoch')\n",
    "plt.legend(['CV%d'%(i+1) for i in range(5)], loc='upper left')\n",
    "plt.show()"
   ]
  },
  {
   "cell_type": "code",
   "execution_count": 82,
   "metadata": {},
   "outputs": [
    {
     "data": {
      "image/png": "[encoded data removed]",
      "text/plain": [
       "<Figure size 640x480 with 1 Axes>"
      ]
     },
     "metadata": {},
     "output_type": "display_data"
    }
   ],
   "source": [
    "for history in histories:\n",
    "    plt.plot(history.history['loss'])\n",
    "plt.title('loss')\n",
    "plt.ylabel('train loss')\n",
    "plt.xlabel('epoch')\n",
    "plt.legend(['CV%d'%(i+1) for i in range(5)], loc='upper left')\n",
    "plt.show()"
   ]
  },
  {
   "cell_type": "code",
   "execution_count": 83,
   "metadata": {},
   "outputs": [
    {
     "data": {
      "image/png": "[encoded data removed]",
      "text/plain": [
       "<Figure size 640x480 with 1 Axes>"
      ]
     },
     "metadata": {},
     "output_type": "display_data"
    }
   ],
   "source": [
    "for history in histories:\n",
    "    plt.plot(history.history['masked_accuracy'])\n",
    "plt.title('masked_accuracy')\n",
    "plt.ylabel('train masked accuracy')\n",
    "plt.xlabel('epoch')\n",
    "plt.legend(['CV%d'%(i+1) for i in range(5)], loc='upper left')\n",
    "plt.show()"
   ]
  },
  {
   "cell_type": "markdown",
   "metadata": {},
   "source": [
    "# load translator and preidtc similarity"
   ]
  },
  {
   "cell_type": "code",
   "execution_count": 93,
   "metadata": {},
   "outputs": [],
   "source": [
    "def similarity_point_calculator(prediction,ground_truth,blosum50=load.blosum50_20aa):\n",
    "    blosum50_keys = list(blosum50.keys())\n",
    "    prediction=prediction.replace(\">\",\"\").replace(\"<\",\"\").replace(\".\",\"\")\n",
    "    similarity_point=0\n",
    "    max_similarity_point=0\n",
    "    for i in range(len(ground_truth)):\n",
    "        true_i=ground_truth[i]\n",
    "        if i < len(prediction):\n",
    "            pred_i=prediction[i]\n",
    "            similarity_point+=blosum50[pred_i][blosum50_keys.index(true_i)]\n",
    "        max_similarity_point+=blosum50[true_i][blosum50_keys.index(true_i)]\n",
    "        # print(pred_i,true_i,blosum50[pred_i][blosum50_keys.index(true_i)])\n",
    "    similarity_ratio=similarity_point/max_similarity_point\n",
    "    return(similarity_ratio)"
   ]
  },
  {
   "cell_type": "code",
   "execution_count": 91,
   "metadata": {},
   "outputs": [
    {
     "data": {
      "text/plain": [
       "'CASSYLPGQGDHYSNQPQHF'"
      ]
     },
     "execution_count": 91,
     "metadata": {},
     "output_type": "execute_result"
    }
   ],
   "source": [
    "dbfile = dbfile.reset_index()\n",
    "dbfile[\"cdr3.beta\"][10]"
   ]
  },
  {
   "cell_type": "code",
   "execution_count": 95,
   "metadata": {},
   "outputs": [],
   "source": [
    "# transformer = transformers[0]\n",
    "translator = model.Translator(tk_dict, tokens, transformer)\n",
    "scores = []\n",
    "# dbfile = dbfile.reset_index()\n",
    "for idx in test_index:\n",
    "    sentence = (dbfile[\"cdr3.alpha\"][idx],dbfile[\"cdr3.beta\"][idx])\t\t\n",
    "    ground_truth = dbfile[\"antigen.epitope\"][idx]\n",
    "\n",
    "    translated_text, _ = translator(sentence,max_length=14)\n",
    "    scores.append(similarity_point_calculator(translated_text[0],ground_truth))"
   ]
  },
  {
   "cell_type": "code",
   "execution_count": 86,
   "metadata": {},
   "outputs": [
    {
     "data": {
      "text/plain": [
       "'CAYRPPGTYKYIF'"
      ]
     },
     "execution_count": 86,
     "metadata": {},
     "output_type": "execute_result"
    }
   ],
   "source": [
    "# dbfile['antigen.epitope'], tk_dict, 13,label=True)\n",
    "# dbfile[\"cdr3.alpha\"]\n",
    "# dbfile[\"cdr3.beta\"]\n",
    "# test_index\n",
    "dbfile[\"cdr3.alpha\"][4]"
   ]
  },
  {
   "cell_type": "code",
   "execution_count": null,
   "metadata": {},
   "outputs": [],
   "source": [
    "from scipy import stats\n",
    "stats.describe(scores)"
   ]
  }
 ],
 "metadata": {
  "kernelspec": {
   "display_name": "Python 3.9.13 ('tf-gpu')",
   "language": "python",
   "name": "python3"
  },
  "language_info": {
   "codemirror_mode": {
    "name": "ipython",
    "version": 3
   },
   "file_extension": ".py",
   "mimetype": "text/x-python",
   "name": "python",
   "nbconvert_exporter": "python",
   "pygments_lexer": "ipython3",
   "version": "3.9.15"
  },
  "orig_nbformat": 4,
  "vscode": {
   "interpreter": {
    "hash": "009932425255c51b26de204d40c57b9ea5b32c204f45def90e769b2261880a6b"
   }
  }
 },
 "nbformat": 4,
 "nbformat_minor": 2
}

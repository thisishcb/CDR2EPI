{
 "cells": [
  {
   "cell_type": "markdown",
   "metadata": {},
   "source": [
    "# Module 1 Load Data"
   ]
  },
  {
   "cell_type": "code",
   "execution_count": 1,
   "metadata": {},
   "outputs": [],
   "source": [
    "import sys\n",
    "from collections import defaultdict\n",
    "import numpy as np\n",
    "import pandas as pd\n",
    "import tensorflow as tf"
   ]
  },
  {
   "cell_type": "markdown",
   "metadata": {},
   "source": [
    "## load table "
   ]
  },
  {
   "cell_type": "code",
   "execution_count": 2,
   "metadata": {},
   "outputs": [
    {
     "name": "stdout",
     "output_type": "stream",
     "text": [
      "(60055, 5)\n",
      "(29266, 5)\n"
     ]
    },
    {
     "name": "stderr",
     "output_type": "stream",
     "text": [
      "C:\\Users\\croco\\AppData\\Local\\Temp\\ipykernel_5352\\3075150544.py:3: DtypeWarning: Columns (20,29,30) have mixed types. Specify dtype option on import or set low_memory=False.\n",
      "  dbfile = pd.read_csv('./Data/VDJDB/vdjdb_full.txt', sep='\\t')\n"
     ]
    },
    {
     "data": {
      "text/html": [
       "<div>\n",
       "<style scoped>\n",
       "    .dataframe tbody tr th:only-of-type {\n",
       "        vertical-align: middle;\n",
       "    }\n",
       "\n",
       "    .dataframe tbody tr th {\n",
       "        vertical-align: top;\n",
       "    }\n",
       "\n",
       "    .dataframe thead th {\n",
       "        text-align: right;\n",
       "    }\n",
       "</style>\n",
       "<table border=\"1\" class=\"dataframe\">\n",
       "  <thead>\n",
       "    <tr style=\"text-align: right;\">\n",
       "      <th></th>\n",
       "      <th>cdr3.alpha</th>\n",
       "      <th>cdr3.beta</th>\n",
       "      <th>antigen.epitope</th>\n",
       "      <th>antigen.species</th>\n",
       "      <th>mhc.class</th>\n",
       "    </tr>\n",
       "  </thead>\n",
       "  <tbody>\n",
       "    <tr>\n",
       "      <th>0</th>\n",
       "      <td>CIVRAPGRADMRF</td>\n",
       "      <td>CASSYLPGQGDHYSNQPQHF</td>\n",
       "      <td>FLKEKGGL</td>\n",
       "      <td>HIV-1</td>\n",
       "      <td>MHCI</td>\n",
       "    </tr>\n",
       "    <tr>\n",
       "      <th>2</th>\n",
       "      <td>CAVPSGAGSYQLTF</td>\n",
       "      <td>CASSFEPGQGFYSNQPQHF</td>\n",
       "      <td>FLKEKGGL</td>\n",
       "      <td>HIV-1</td>\n",
       "      <td>MHCI</td>\n",
       "    </tr>\n",
       "    <tr>\n",
       "      <th>3</th>\n",
       "      <td>CAVKASGSRLT</td>\n",
       "      <td>CASSYEPGQVSHYSNQPQHF</td>\n",
       "      <td>FLKEKGGL</td>\n",
       "      <td>HIV-1</td>\n",
       "      <td>MHCI</td>\n",
       "    </tr>\n",
       "    <tr>\n",
       "      <th>4</th>\n",
       "      <td>CAYRPPGTYKYIF</td>\n",
       "      <td>CASSALASLNEQFF</td>\n",
       "      <td>FLKEKGGL</td>\n",
       "      <td>HIV-1</td>\n",
       "      <td>MHCI</td>\n",
       "    </tr>\n",
       "    <tr>\n",
       "      <th>5</th>\n",
       "      <td>CIVRAPGRADMRF</td>\n",
       "      <td>CASSYLPGQGDHYSNQPQHF</td>\n",
       "      <td>FLKEQGGL</td>\n",
       "      <td>HIV-1</td>\n",
       "      <td>MHCI</td>\n",
       "    </tr>\n",
       "  </tbody>\n",
       "</table>\n",
       "</div>"
      ],
      "text/plain": [
       "       cdr3.alpha             cdr3.beta antigen.epitope antigen.species  \\\n",
       "0   CIVRAPGRADMRF  CASSYLPGQGDHYSNQPQHF        FLKEKGGL           HIV-1   \n",
       "2  CAVPSGAGSYQLTF   CASSFEPGQGFYSNQPQHF        FLKEKGGL           HIV-1   \n",
       "3     CAVKASGSRLT  CASSYEPGQVSHYSNQPQHF        FLKEKGGL           HIV-1   \n",
       "4   CAYRPPGTYKYIF        CASSALASLNEQFF        FLKEKGGL           HIV-1   \n",
       "5   CIVRAPGRADMRF  CASSYLPGQGDHYSNQPQHF        FLKEQGGL           HIV-1   \n",
       "\n",
       "  mhc.class  \n",
       "0      MHCI  \n",
       "2      MHCI  \n",
       "3      MHCI  \n",
       "4      MHCI  \n",
       "5      MHCI  "
      ]
     },
     "execution_count": 2,
     "metadata": {},
     "output_type": "execute_result"
    }
   ],
   "source": [
    "## load dataset & filter out missing data\n",
    "# dbfile = pd.read_csv('./Data/vdjdb.slim.txt', sep='\\t')\n",
    "dbfile = pd.read_csv('./Data/VDJDB/vdjdb_full.txt', sep='\\t')\n",
    "# print(dbfile.columns)\n",
    "dbfile = dbfile[['cdr3.alpha', 'cdr3.beta','antigen.epitope','antigen.species',\"mhc.class\"]]\n",
    "print(dbfile.shape)\n",
    "dbfile = dbfile.dropna(subset=['cdr3.alpha', 'cdr3.beta','antigen.epitope'])\n",
    "print(dbfile.shape)\n",
    "dbfile.head()"
   ]
  },
  {
   "cell_type": "code",
   "execution_count": 3,
   "metadata": {},
   "outputs": [
    {
     "name": "stderr",
     "output_type": "stream",
     "text": [
      "C:\\Users\\croco\\AppData\\Local\\Temp\\ipykernel_5352\\605436328.py:1: DtypeWarning: Columns (8,10,11,13,15,16,17,18,19,20,21,22,23,24,25,30,31,36,37,42,44,45,46,47,48,49,50,51,52,53,54,59,60,65,66) have mixed types. Specify dtype option on import or set low_memory=False.\n",
      "  iedbfile = pd.read_csv('./Data/IEDB/tcell_receptor_table_export_1668026760.csv')\n"
     ]
    },
    {
     "name": "stdout",
     "output_type": "stream",
     "text": [
      "(205824, 4)\n",
      "(25927, 4)\n"
     ]
    },
    {
     "data": {
      "text/html": [
       "<div>\n",
       "<style scoped>\n",
       "    .dataframe tbody tr th:only-of-type {\n",
       "        vertical-align: middle;\n",
       "    }\n",
       "\n",
       "    .dataframe tbody tr th {\n",
       "        vertical-align: top;\n",
       "    }\n",
       "\n",
       "    .dataframe thead th {\n",
       "        text-align: right;\n",
       "    }\n",
       "</style>\n",
       "<table border=\"1\" class=\"dataframe\">\n",
       "  <thead>\n",
       "    <tr style=\"text-align: right;\">\n",
       "      <th></th>\n",
       "      <th>Chain 1 CDR3 Curated</th>\n",
       "      <th>Chain 2 CDR3 Curated</th>\n",
       "      <th>Description</th>\n",
       "      <th>Organism</th>\n",
       "    </tr>\n",
       "  </thead>\n",
       "  <tbody>\n",
       "    <tr>\n",
       "      <th>0</th>\n",
       "      <td>IVVRSSNTGKLI</td>\n",
       "      <td>ASSQDRDTQY</td>\n",
       "      <td>VMAPRTLIL</td>\n",
       "      <td>Homo sapiens (human)</td>\n",
       "    </tr>\n",
       "    <tr>\n",
       "      <th>80</th>\n",
       "      <td>CAVTTDSWGKLQF</td>\n",
       "      <td>CASRPGLAGGRPEQYF</td>\n",
       "      <td>LLFGYPVYV</td>\n",
       "      <td>Human T-cell leukemia virus type I (Human T ce...</td>\n",
       "    </tr>\n",
       "    <tr>\n",
       "      <th>82</th>\n",
       "      <td>CAVTTDSWGKLQF</td>\n",
       "      <td>CASRPGLMSAQPEQYF</td>\n",
       "      <td>LLFGYPVYV</td>\n",
       "      <td>Human T-cell leukemia virus type I (Human T ce...</td>\n",
       "    </tr>\n",
       "    <tr>\n",
       "      <th>109</th>\n",
       "      <td>CAVRPTSGGSYIPTF</td>\n",
       "      <td>CASSYVGNTGELFF</td>\n",
       "      <td>SLLMWITQC</td>\n",
       "      <td>Homo sapiens (human)</td>\n",
       "    </tr>\n",
       "    <tr>\n",
       "      <th>202</th>\n",
       "      <td>TVYGGATNKLI</td>\n",
       "      <td>SARGGSYNSPLH</td>\n",
       "      <td>LSRFSWGAEGQRPGFGYGG</td>\n",
       "      <td>Homo sapiens (human)</td>\n",
       "    </tr>\n",
       "  </tbody>\n",
       "</table>\n",
       "</div>"
      ],
      "text/plain": [
       "    Chain 1 CDR3 Curated Chain 2 CDR3 Curated          Description  \\\n",
       "0           IVVRSSNTGKLI           ASSQDRDTQY            VMAPRTLIL   \n",
       "80         CAVTTDSWGKLQF     CASRPGLAGGRPEQYF            LLFGYPVYV   \n",
       "82         CAVTTDSWGKLQF     CASRPGLMSAQPEQYF            LLFGYPVYV   \n",
       "109      CAVRPTSGGSYIPTF       CASSYVGNTGELFF            SLLMWITQC   \n",
       "202          TVYGGATNKLI         SARGGSYNSPLH  LSRFSWGAEGQRPGFGYGG   \n",
       "\n",
       "                                              Organism  \n",
       "0                                 Homo sapiens (human)  \n",
       "80   Human T-cell leukemia virus type I (Human T ce...  \n",
       "82   Human T-cell leukemia virus type I (Human T ce...  \n",
       "109                               Homo sapiens (human)  \n",
       "202                               Homo sapiens (human)  "
      ]
     },
     "execution_count": 3,
     "metadata": {},
     "output_type": "execute_result"
    }
   ],
   "source": [
    "iedbfile = pd.read_csv('./Data/IEDB/tcell_receptor_table_export_1668026760.csv')\n",
    "# print(iedbfile.columns)\n",
    "# Chain 1 Full Sequence', 'Chain 1 Accession', 'Chain 1 CDR3 Curated',\n",
    "#        'Chain 1 CDR3 Calculated'\n",
    "iedbfile = iedbfile[['Chain 1 CDR3 Curated','Chain 2 CDR3 Curated',\"Description\",\"Organism\"]]\n",
    "print(iedbfile.shape)\n",
    "iedbfile = iedbfile.dropna(subset=['Chain 1 CDR3 Curated','Chain 2 CDR3 Curated',\"Description\"])\n",
    "iedbfile.Description = iedbfile.Description.str.split(' ').str[0]\n",
    "iedbfile = iedbfile[~iedbfile.Description.str.contains('[^ARNDCQEGHILKMFPSTWYV]',na=False)]\n",
    "print(iedbfile.shape)\n",
    "iedbfile.head()"
   ]
  },
  {
   "cell_type": "code",
   "execution_count": 4,
   "metadata": {},
   "outputs": [],
   "source": [
    "# mixeddb = "
   ]
  },
  {
   "cell_type": "markdown",
   "metadata": {},
   "source": [
    "## Encoding & split sets"
   ]
  },
  {
   "cell_type": "code",
   "execution_count": 5,
   "metadata": {},
   "outputs": [],
   "source": [
    "from functions import load\n",
    "# from functions.load import enc_list_bl_max_len, positional_coding, blosum50_20aa "
   ]
  },
  {
   "cell_type": "code",
   "execution_count": 6,
   "metadata": {},
   "outputs": [],
   "source": [
    "from importlib import reload\n",
    "# reload(load)"
   ]
  },
  {
   "cell_type": "code",
   "execution_count": 7,
   "metadata": {},
   "outputs": [
    {
     "name": "stdout",
     "output_type": "stream",
     "text": [
      "0     CIVRAPGRADMRF\n",
      "2    CAVPSGAGSYQLTF\n",
      "Name: cdr3.alpha, dtype: object\n"
     ]
    },
    {
     "data": {
      "text/plain": [
       "(2, 30, 20)"
      ]
     },
     "execution_count": 7,
     "metadata": {},
     "output_type": "execute_result"
    }
   ],
   "source": [
    "print(dbfile.head(n=2)[\"cdr3.alpha\"])\n",
    "load.enc_list_bl_max_len(dbfile.head(n=2)[\"cdr3.alpha\"],load.blosum50_20aa,30).shape"
   ]
  },
  {
   "cell_type": "code",
   "execution_count": 8,
   "metadata": {},
   "outputs": [],
   "source": [
    "tokens = load.blosum50_20aa.keys()\n",
    "\n",
    "tokens = list(tokens)\n",
    "tokens.insert(0, '.')\n",
    "tk_dict = defaultdict(lambda: None)\n",
    "for idx in range(len(tokens)):\n",
    "    tk_dict[tokens[idx]]=idx"
   ]
  },
  {
   "cell_type": "code",
   "execution_count": 9,
   "metadata": {},
   "outputs": [
    {
     "data": {
      "text/plain": [
       "(52, 30)"
      ]
     },
     "execution_count": 9,
     "metadata": {},
     "output_type": "execute_result"
    }
   ],
   "source": [
    "load.positional_coding(dbfile.head(n=52)[\"cdr3.alpha\"],tk_dict,30).shape\n",
    "load.positional_coding(iedbfile.head(n=52)[\"Chain 1 CDR3 Curated\"],tk_dict,30).shape"
   ]
  },
  {
   "cell_type": "code",
   "execution_count": 10,
   "metadata": {},
   "outputs": [],
   "source": [
    "from sklearn.model_selection import train_test_split"
   ]
  },
  {
   "cell_type": "code",
   "execution_count": 11,
   "metadata": {},
   "outputs": [],
   "source": [
    "train, test = train_test_split(dbfile[dbfile['antigen.epitope'].str.len()<=12], shuffle=True ,test_size=0.2)"
   ]
  },
  {
   "cell_type": "code",
   "execution_count": 12,
   "metadata": {},
   "outputs": [
    {
     "name": "stdout",
     "output_type": "stream",
     "text": [
      "(23161, 12) (23161, 30) (23161, 30) (23161, 60)\n"
     ]
    }
   ],
   "source": [
    "ept_train = load.positional_coding(train['antigen.epitope'], tk_dict, 12)\n",
    "tcra_train = load.positional_coding(train[\"cdr3.alpha\"], tk_dict, 30)\n",
    "tcrb_train = load.positional_coding(train[\"cdr3.beta\"], tk_dict, 30)\n",
    "ept_train_lb = np.roll(ept_train, 1)\n",
    "tcr_train = np.concatenate((tcra_train,tcrb_train),axis=1)\n",
    "print(ept_train.shape, tcra_train.shape, tcrb_train.shape,tcr_train.shape)\n",
    "ept_test = load.positional_coding(test['antigen.epitope'], tk_dict, 12)\n",
    "tcra_test = load.positional_coding(test[\"cdr3.alpha\"], tk_dict, 30)\n",
    "tcrb_test = load.positional_coding(test[\"cdr3.beta\"], tk_dict, 30)\n",
    "tcr_test = np.concatenate((tcra_test,tcrb_test),axis=1)\n",
    "ept_test_lb = np.roll(ept_test, 1)"
   ]
  },
  {
   "cell_type": "code",
   "execution_count": 13,
   "metadata": {},
   "outputs": [],
   "source": [
    "tcr_train = tf.convert_to_tensor(tcr_train)\n",
    "# tcr_train_lb = tf.convert_to_tensor(tcr_train_lb)\n",
    "# tcra_train = tf.convert_to_tensor(tcra_train)\n",
    "# tcrb_train = tf.convert_to_tensor(tcrb_train)\n",
    "ept_train = tf.convert_to_tensor(ept_train)\n",
    "ept_train_lb = tf.convert_to_tensor(ept_train_lb)\n",
    "# tcr_train = tf.convert_to_tensor(numeric_features)\n",
    "tcr_test = tf.convert_to_tensor(tcr_test)\n",
    "# tcr_test_lb = tf.convert_to_tensor(tcr_test_lb)\n",
    "# tcra_test = tf.convert_to_tensor(tcra_test)\n",
    "# tcrb_test = tf.convert_to_tensor(tcrb_test)\n",
    "ept_test = tf.convert_to_tensor(ept_test)\n",
    "ept_test_lb = tf.convert_to_tensor(ept_test_lb)"
   ]
  },
  {
   "cell_type": "markdown",
   "metadata": {},
   "source": [
    "# Model Input"
   ]
  },
  {
   "cell_type": "code",
   "execution_count": 14,
   "metadata": {},
   "outputs": [],
   "source": [
    "import tensorflow as tf\n",
    "import matplotlib.pyplot as plt"
   ]
  },
  {
   "cell_type": "code",
   "execution_count": 17,
   "metadata": {},
   "outputs": [],
   "source": [
    "from functions import model\n",
    "# reload(model)"
   ]
  },
  {
   "cell_type": "code",
   "execution_count": 18,
   "metadata": {},
   "outputs": [],
   "source": [
    "BUFFER_SIZE = 20000\n",
    "BATCH_SIZE = 64\n",
    "MAX_TOKENS = 32\n",
    "\n",
    "\n",
    "def make_batches(ds):\n",
    "  return (\n",
    "      ds\n",
    "      .shuffle(BUFFER_SIZE)\n",
    "      .batch(BATCH_SIZE)\n",
    "      .prefetch(buffer_size=tf.data.AUTOTUNE))"
   ]
  },
  {
   "cell_type": "code",
   "execution_count": 19,
   "metadata": {},
   "outputs": [],
   "source": [
    "dataset = tf.data.Dataset.from_tensor_slices(((tcr_train,ept_train),ept_train_lb))\n",
    "dataset = make_batches(dataset)\n",
    "dataset_val = tf.data.Dataset.from_tensor_slices(((tcr_test, ept_test),ept_test_lb))\n",
    "dataset_val = make_batches(dataset_val)"
   ]
  },
  {
   "cell_type": "code",
   "execution_count": 20,
   "metadata": {},
   "outputs": [
    {
     "name": "stdout",
     "output_type": "stream",
     "text": [
      "(64, 60)\n",
      "(64, 12)\n",
      "(64, 12)\n"
     ]
    }
   ],
   "source": [
    "for (ept, tcr), tcr_lb in dataset.take(2):\n",
    "  break\n",
    "\n",
    "print(ept.shape)\n",
    "print(tcr.shape)\n",
    "print(tcr_lb.shape)"
   ]
  },
  {
   "cell_type": "code",
   "execution_count": 21,
   "metadata": {},
   "outputs": [
    {
     "name": "stdout",
     "output_type": "stream",
     "text": [
      "tf.Tensor([12. 11.  8.  8.  1. 11.  6.  1. 12.  0.], shape=(10,), dtype=float64)\n",
      "tf.Tensor([ 0. 12. 11.  8.  8.  1. 11.  6.  1. 12.], shape=(10,), dtype=float64)\n",
      "tf.Tensor(\n",
      "[[ True  True  True  True  True  True  True  True  True False False False]\n",
      " [ True  True  True  True  True  True  True  True  True False False False]\n",
      " [ True  True  True  True  True  True  True  True  True False False False]\n",
      " [ True  True  True  True  True  True  True  True  True False False False]\n",
      " [ True  True  True  True  True  True  True  True  True False False False]\n",
      " [ True  True  True  True  True  True  True  True  True False False False]\n",
      " [ True  True  True  True  True  True  True  True  True False False False]\n",
      " [ True  True  True  True  True  True  True  True  True False False False]\n",
      " [ True  True  True  True  True  True  True  True  True False False False]\n",
      " [ True  True  True  True  True  True  True  True  True  True False False]\n",
      " [ True  True  True  True  True  True  True  True  True False False False]\n",
      " [ True  True  True  True  True  True  True  True  True False False False]\n",
      " [ True  True  True  True  True  True  True  True  True False False False]\n",
      " [ True  True  True  True  True  True  True  True  True False False False]\n",
      " [ True  True  True  True  True  True  True  True  True False False False]\n",
      " [ True  True  True  True  True  True  True  True  True False False False]\n",
      " [ True  True  True  True  True  True  True  True  True False False False]\n",
      " [ True  True  True  True  True  True  True  True  True False False False]\n",
      " [ True  True  True  True  True  True  True  True  True False False False]\n",
      " [ True  True  True  True  True  True  True  True False False False False]\n",
      " [ True  True  True  True  True  True  True  True  True False False False]\n",
      " [ True  True  True  True  True  True  True  True  True False False False]\n",
      " [ True  True  True  True  True  True  True  True  True False False False]\n",
      " [ True  True  True  True  True  True  True  True  True False False False]\n",
      " [ True  True  True  True  True  True  True  True  True  True False False]\n",
      " [ True  True  True  True  True  True  True  True  True  True  True False]\n",
      " [ True  True  True  True  True  True  True  True  True False False False]\n",
      " [ True  True  True  True  True  True  True  True  True False False False]\n",
      " [ True  True  True  True  True  True  True  True  True False False False]\n",
      " [ True  True  True  True  True  True  True  True  True False False False]\n",
      " [ True  True  True  True  True  True  True  True  True False False False]\n",
      " [ True  True  True  True  True  True  True  True  True False False False]\n",
      " [ True  True  True  True  True  True  True  True  True False False False]\n",
      " [ True  True  True  True  True  True  True  True  True False False False]\n",
      " [ True  True  True  True  True  True  True  True  True  True False False]\n",
      " [ True  True  True  True  True  True  True  True  True False False False]\n",
      " [ True  True  True  True  True  True  True  True  True False False False]\n",
      " [ True  True  True  True  True  True  True  True  True False False False]\n",
      " [ True  True  True  True  True  True  True  True  True False False False]\n",
      " [ True  True  True  True  True  True  True  True  True False False False]\n",
      " [ True  True  True  True  True  True  True  True  True False False False]\n",
      " [ True  True  True  True  True  True  True  True  True False False False]\n",
      " [ True  True  True  True  True  True  True  True  True False False False]\n",
      " [ True  True  True  True  True  True  True  True  True False False False]\n",
      " [ True  True  True  True  True  True  True  True  True  True False False]\n",
      " [ True  True  True  True  True  True  True  True  True False False False]\n",
      " [ True  True  True  True  True  True  True  True  True False False False]\n",
      " [ True  True  True  True  True  True  True  True  True False False False]\n",
      " [ True  True  True  True  True  True  True  True  True False False False]\n",
      " [ True  True  True  True  True  True  True  True  True False False False]\n",
      " [ True  True  True  True  True  True  True  True  True False False False]\n",
      " [ True  True  True  True  True  True  True  True  True False False False]\n",
      " [ True  True  True  True  True  True  True  True  True False False False]\n",
      " [ True  True  True  True  True  True  True  True  True False False False]\n",
      " [ True  True  True  True  True  True  True  True  True False False False]\n",
      " [ True  True  True  True  True  True  True  True  True False False False]\n",
      " [ True  True  True  True  True  True  True  True  True False False False]\n",
      " [ True  True  True  True  True  True  True  True  True False False False]\n",
      " [ True  True  True  True  True  True  True  True  True False False False]\n",
      " [ True  True  True  True  True  True  True  True False False False False]\n",
      " [ True  True  True  True  True  True  True  True  True False False False]\n",
      " [ True  True  True  True  True  True  True  True  True False False False]\n",
      " [ True  True  True  True  True  True  True  True  True False False False]\n",
      " [ True  True  True  True  True  True  True  True  True False False False]], shape=(64, 12), dtype=bool)\n"
     ]
    }
   ],
   "source": [
    "print(tcr[0][:10])\n",
    "print(tcr_lb[0][:10])\n",
    "\n",
    "embed_tcr = model.PositionalEmbedding(vocab_size=21, d_model=512)\n",
    "embed_ept = model.PositionalEmbedding(vocab_size=21, d_model=512)\n",
    "\n",
    "tcr_emb = embed_tcr(tcr)\n",
    "ept_emb = embed_ept(ept)\n",
    "print(tcr_emb._keras_mask)"
   ]
  },
  {
   "cell_type": "code",
   "execution_count": 22,
   "metadata": {},
   "outputs": [
    {
     "name": "stdout",
     "output_type": "stream",
     "text": [
      "(64, 12)\n",
      "(64, 12, 512)\n"
     ]
    }
   ],
   "source": [
    "sample_encoder = model.Encoder(num_layers=4,\n",
    "                         d_model=512,\n",
    "                         num_heads=8,\n",
    "                         dff=2048,\n",
    "                         vocab_size=21)\n",
    "\n",
    "sample_encoder_output = sample_encoder(tcr, training=False)\n",
    "print(tcr.shape)\n",
    "print(sample_encoder_output.shape)"
   ]
  },
  {
   "cell_type": "code",
   "execution_count": 23,
   "metadata": {},
   "outputs": [],
   "source": [
    "num_layers = 4\n",
    "d_model = 128\n",
    "dff = 512\n",
    "num_heads = 8\n",
    "dropout_rate = 0.1"
   ]
  },
  {
   "cell_type": "code",
   "execution_count": 24,
   "metadata": {},
   "outputs": [],
   "source": [
    "transformer = model.Transformer(\n",
    "    num_layers=num_layers,\n",
    "    d_model=d_model,\n",
    "    num_heads=num_heads,\n",
    "    dff=dff,\n",
    "    input_vocab_size=np.int64(21),\n",
    "    target_vocab_size=np.int64(21),\n",
    "    dropout_rate=dropout_rate)"
   ]
  },
  {
   "cell_type": "code",
   "execution_count": 25,
   "metadata": {},
   "outputs": [
    {
     "name": "stdout",
     "output_type": "stream",
     "text": [
      "(64, 12)\n",
      "(64, 60)\n",
      "(64, 12, 21)\n",
      "(64, 8, 12, 60)\n"
     ]
    }
   ],
   "source": [
    "output = transformer((ept,tcr))\n",
    "\n",
    "print(tcr.shape)\n",
    "print(ept.shape)\n",
    "print(output.shape)\n",
    "\n",
    "attn_scores = transformer.decoder.dec_layers[-1].last_attn_scores\n",
    "print(attn_scores.shape)  # (batch, heads, target_seq, input_seq)"
   ]
  },
  {
   "cell_type": "code",
   "execution_count": 26,
   "metadata": {},
   "outputs": [
    {
     "data": {
      "text/plain": [
       "<tf.Tensor: shape=(21,), dtype=float32, numpy=\n",
       "array([-0.22654732,  2.7606866 ,  0.4078293 ,  0.29853964, -0.48706892,\n",
       "       -3.999951  , -1.5115181 , -0.6058616 , -1.7489079 , -1.2016349 ,\n",
       "       -1.105646  , -1.3599912 ,  2.6185935 , -0.4368922 ,  0.04865283,\n",
       "        2.7802079 , -0.69060826,  2.127555  , -3.830478  ,  1.2093334 ,\n",
       "       -0.19694869], dtype=float32)>"
      ]
     },
     "execution_count": 26,
     "metadata": {},
     "output_type": "execute_result"
    }
   ],
   "source": [
    "output[1,1,:]"
   ]
  },
  {
   "cell_type": "code",
   "execution_count": 27,
   "metadata": {},
   "outputs": [
    {
     "data": {
      "text/plain": [
       "Text(0.5, 0, 'Train Step')"
      ]
     },
     "execution_count": 27,
     "metadata": {},
     "output_type": "execute_result"
    },
    {
     "data": {
      "image/png": "[encoded data removed]",
      "text/plain": [
       "<Figure size 640x480 with 1 Axes>"
      ]
     },
     "metadata": {},
     "output_type": "display_data"
    }
   ],
   "source": [
    "learning_rate = model.CustomSchedule(d_model)\n",
    "\n",
    "optimizer = tf.keras.optimizers.Adam(learning_rate, beta_1=0.9, beta_2=0.98,\n",
    "                                     epsilon=1e-9)\n",
    "\n",
    "plt.plot(learning_rate(tf.range(40000, dtype=tf.float32)))\n",
    "plt.ylabel('Learning Rate')\n",
    "plt.xlabel('Train Step')"
   ]
  },
  {
   "cell_type": "code",
   "execution_count": 28,
   "metadata": {},
   "outputs": [],
   "source": [
    "transformer.compile(\n",
    "    loss=model.masked_loss,\n",
    "    optimizer=optimizer,\n",
    "    metrics=[model.masked_accuracy])"
   ]
  },
  {
   "cell_type": "code",
   "execution_count": 29,
   "metadata": {},
   "outputs": [
    {
     "name": "stdout",
     "output_type": "stream",
     "text": [
      "Model: \"transformer\"\n",
      "_________________________________________________________________\n",
      " Layer (type)                Output Shape              Param #   \n",
      "=================================================================\n",
      " encoder_1 (Encoder)         multiple                  2641536   \n",
      "                                                                 \n",
      " decoder (Decoder)           multiple                  4752512   \n",
      "                                                                 \n",
      " dense_24 (Dense)            multiple                  2709      \n",
      "                                                                 \n",
      "=================================================================\n",
      "Total params: 7,396,757\n",
      "Trainable params: 7,396,757\n",
      "Non-trainable params: 0\n",
      "_________________________________________________________________\n"
     ]
    }
   ],
   "source": [
    "transformer.summary()"
   ]
  },
  {
   "cell_type": "code",
   "execution_count": 30,
   "metadata": {},
   "outputs": [
    {
     "name": "stdout",
     "output_type": "stream",
     "text": [
      "Epoch 1/20\n",
      "362/362 [==============================] - 33s 72ms/step - loss: 1.1354 - masked_accuracy: 0.6963 - val_loss: 0.0812 - val_masked_accuracy: 0.9790\n",
      "Epoch 2/20\n",
      "362/362 [==============================] - 25s 68ms/step - loss: 0.0531 - masked_accuracy: 0.9871 - val_loss: 0.0072 - val_masked_accuracy: 0.9981\n",
      "Epoch 3/20\n",
      "362/362 [==============================] - 25s 68ms/step - loss: 0.0191 - masked_accuracy: 0.9950 - val_loss: 0.0023 - val_masked_accuracy: 0.9994\n",
      "Epoch 4/20\n",
      "362/362 [==============================] - 25s 68ms/step - loss: 0.0145 - masked_accuracy: 0.9962 - val_loss: 0.0059 - val_masked_accuracy: 0.9986\n",
      "Epoch 5/20\n",
      "362/362 [==============================] - 25s 68ms/step - loss: 0.0161 - masked_accuracy: 0.9959 - val_loss: 0.0040 - val_masked_accuracy: 0.9991\n",
      "Epoch 6/20\n",
      "362/362 [==============================] - 25s 68ms/step - loss: 0.0187 - masked_accuracy: 0.9954 - val_loss: 0.0052 - val_masked_accuracy: 0.9986\n",
      "Epoch 7/20\n",
      "362/362 [==============================] - 25s 68ms/step - loss: 0.0213 - masked_accuracy: 0.9946 - val_loss: 0.0132 - val_masked_accuracy: 0.9965\n",
      "Epoch 8/20\n",
      "362/362 [==============================] - 25s 68ms/step - loss: 0.0272 - masked_accuracy: 0.9930 - val_loss: 0.0039 - val_masked_accuracy: 0.9991\n",
      "Epoch 9/20\n",
      "362/362 [==============================] - 25s 68ms/step - loss: 0.0341 - masked_accuracy: 0.9913 - val_loss: 0.0052 - val_masked_accuracy: 0.9987\n",
      "Epoch 10/20\n",
      "362/362 [==============================] - 25s 68ms/step - loss: 0.0431 - masked_accuracy: 0.9891 - val_loss: 0.0073 - val_masked_accuracy: 0.9980\n",
      "Epoch 11/20\n",
      "362/362 [==============================] - 25s 68ms/step - loss: 0.0686 - masked_accuracy: 0.9824 - val_loss: 0.0333 - val_masked_accuracy: 0.9922\n",
      "Epoch 12/20\n",
      "362/362 [==============================] - 25s 68ms/step - loss: 0.0941 - masked_accuracy: 0.9760 - val_loss: 0.0102 - val_masked_accuracy: 0.9978\n",
      "Epoch 13/20\n",
      "362/362 [==============================] - 25s 68ms/step - loss: 0.0924 - masked_accuracy: 0.9758 - val_loss: 0.0519 - val_masked_accuracy: 0.9878\n",
      "Epoch 14/20\n",
      "362/362 [==============================] - 25s 68ms/step - loss: 0.1219 - masked_accuracy: 0.9678 - val_loss: 0.1838 - val_masked_accuracy: 0.9520\n",
      "Epoch 15/20\n",
      "362/362 [==============================] - 25s 68ms/step - loss: 0.1278 - masked_accuracy: 0.9664 - val_loss: 0.2329 - val_masked_accuracy: 0.9402\n",
      "Epoch 16/20\n",
      "362/362 [==============================] - 25s 68ms/step - loss: 0.3583 - masked_accuracy: 0.9008 - val_loss: 0.1278 - val_masked_accuracy: 0.9648\n",
      "Epoch 17/20\n",
      "362/362 [==============================] - 25s 68ms/step - loss: 0.2495 - masked_accuracy: 0.9321 - val_loss: 0.1333 - val_masked_accuracy: 0.9673\n",
      "Epoch 18/20\n",
      "362/362 [==============================] - 25s 68ms/step - loss: 0.1741 - masked_accuracy: 0.9526 - val_loss: 0.0964 - val_masked_accuracy: 0.9775\n",
      "Epoch 19/20\n",
      "362/362 [==============================] - 25s 68ms/step - loss: 0.3519 - masked_accuracy: 0.8987 - val_loss: 0.1590 - val_masked_accuracy: 0.9583\n",
      "Epoch 20/20\n",
      "362/362 [==============================] - 25s 69ms/step - loss: 0.2131 - masked_accuracy: 0.9418 - val_loss: 0.1051 - val_masked_accuracy: 0.9733\n"
     ]
    },
    {
     "data": {
      "text/plain": [
       "<keras.callbacks.History at 0x29deb28c2b0>"
      ]
     },
     "execution_count": 30,
     "metadata": {},
     "output_type": "execute_result"
    }
   ],
   "source": [
    "transformer.fit(dataset,\n",
    "                epochs=20,\n",
    "                validation_data=dataset_val)"
   ]
  },
  {
   "cell_type": "code",
   "execution_count": null,
   "metadata": {},
   "outputs": [],
   "source": []
  }
 ],
 "metadata": {
  "kernelspec": {
   "display_name": "Python 3.9.13 ('tf-gpu')",
   "language": "python",
   "name": "python3"
  },
  "language_info": {
   "codemirror_mode": {
    "name": "ipython",
    "version": 3
   },
   "file_extension": ".py",
   "mimetype": "text/x-python",
   "name": "python",
   "nbconvert_exporter": "python",
   "pygments_lexer": "ipython3",
   "version": "3.9.15"
  },
  "orig_nbformat": 4,
  "vscode": {
   "interpreter": {
    "hash": "009932425255c51b26de204d40c57b9ea5b32c204f45def90e769b2261880a6b"
   }
  }
 },
 "nbformat": 4,
 "nbformat_minor": 2
}

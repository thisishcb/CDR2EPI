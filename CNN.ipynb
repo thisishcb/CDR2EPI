{
 "cells": [
  {
   "cell_type": "code",
   "execution_count": 70,
   "id": "e7d67927",
   "metadata": {},
   "outputs": [],
   "source": [
    "import sys\n",
    "from collections import defaultdict\n",
    "import numpy as np\n",
    "import pandas as pd\n",
    "import tensorflow as tf\n",
    "\n",
    "import tensorflow as tf\n",
    "import tensorflow.keras\n",
    "import numpy as np\n",
    "import matplotlib.pyplot as plt\n",
    "import pandas as pd\n",
    "import keras\n",
    "import time\n",
    "from tensorflow.keras.models import Sequential, Model\n",
    "from tensorflow.keras.layers import Input, Dense, Conv1D, GlobalMaxPooling1D, concatenate,Flatten,Dropout, Activation, Reshape\n",
    "from tensorflow.keras.optimizers import Adam\n",
    "from tensorflow.keras.initializers import glorot_normal\n",
    "from tensorflow.keras.activations import sigmoid\n",
    "from sklearn.metrics import roc_auc_score\n",
    "# import utils\n",
    "import tensorflow.keras.backend as K\n",
    "from tensorflow.keras.callbacks import EarlyStopping\n",
    "import tensorflow as tf\n"
   ]
  },
  {
   "cell_type": "code",
   "execution_count": 77,
   "id": "f1225739",
   "metadata": {},
   "outputs": [],
   "source": [
    "def nettcr_ab():\n",
    "    '''NetTCR ab with the \"correct\" pooling dimension, that is: the three towers are convoluted, then pooled\n",
    "       and then concatenated for the FNN'''\n",
    "    \n",
    "    ept_in = Input(shape=(13,20))\n",
    "    cdra_in = Input(shape=(32,20))\n",
    "    cdrb_in = Input(shape=(32,20))\n",
    "    \n",
    "    cdra_conv1 = Conv1D(16, 1, padding='same', activation='sigmoid', kernel_initializer='glorot_normal')(cdra_in)\n",
    "    cdra_pool1 = GlobalMaxPooling1D()(cdra_conv1)\n",
    "    cdra_conv3 = Conv1D(16, 3, padding='same', activation='sigmoid', kernel_initializer='glorot_normal')(cdra_in)\n",
    "    cdra_pool3 = GlobalMaxPooling1D()(cdra_conv3)\n",
    "    cdra_conv5 = Conv1D(16, 5, padding='same', activation='sigmoid', kernel_initializer='glorot_normal')(cdra_in)\n",
    "    cdra_pool5 = GlobalMaxPooling1D()(cdra_conv5)\n",
    "    cdra_conv7 = Conv1D(16, 7, padding='same', activation='sigmoid', kernel_initializer='glorot_normal')(cdra_in)\n",
    "    cdra_pool7 = GlobalMaxPooling1D()(cdra_conv7)\n",
    "    \n",
    "    cdrb_conv1 = Conv1D(16, 1, padding='same', activation='sigmoid', kernel_initializer='glorot_normal')(cdrb_in)\n",
    "    cdrb_pool1 = GlobalMaxPooling1D()(cdrb_conv1)\n",
    "    cdrb_conv3 = Conv1D(16, 3, padding='same', activation='sigmoid', kernel_initializer='glorot_normal')(cdrb_in)\n",
    "    cdrb_pool3 = GlobalMaxPooling1D()(cdrb_conv3)\n",
    "    cdrb_conv5 = Conv1D(16, 5, padding='same', activation='sigmoid', kernel_initializer='glorot_normal')(cdrb_in)\n",
    "    cdrb_pool5 = GlobalMaxPooling1D()(cdrb_conv5)\n",
    "    cdrb_conv7 = Conv1D(16, 7, padding='same', activation='sigmoid', kernel_initializer='glorot_normal')(cdrb_in)\n",
    "    cdrb_pool7 = GlobalMaxPooling1D()(cdrb_conv7)\n",
    "\n",
    "    cdra_cat = concatenate([cdra_pool1, cdra_pool3, cdra_pool5, cdra_pool7])\n",
    "    cdrb_cat = concatenate([cdrb_pool1, cdrb_pool3, cdrb_pool5, cdrb_pool7])\n",
    "    print(cdra_conv1.shape)\n",
    "    print(cdra_pool1.shape)\n",
    "    cat = concatenate([cdra_cat, cdrb_cat], axis=1)\n",
    "    print(cat.shape)\n",
    "    \n",
    "    dense = Dense(128, activation='sigmoid')(cat)\n",
    "    dense = Dense(260, activation='sigmoid')(dense)\n",
    "    dense = Dense(260, activation= None)(dense)\n",
    "    #drop = Dropout(0.3)(dense)\n",
    "    \n",
    "    out = Reshape((13,20))(dense)\n",
    "    print(out.shape)\n",
    "    model = (Model(inputs=[cdra_in, cdrb_in],outputs=[out]))\n",
    "    \n",
    "    return model"
   ]
  },
  {
   "cell_type": "code",
   "execution_count": 94,
   "id": "882bd223",
   "metadata": {},
   "outputs": [
    {
     "name": "stdout",
     "output_type": "stream",
     "text": [
      "(None, 32, 16)\n",
      "(None, 16)\n",
      "(None, 128)\n",
      "(None, 13, 20)\n"
     ]
    }
   ],
   "source": [
    "mdl=nettcr_ab()\n",
    "mdl.compile(loss=\"mean_squared_error\", optimizer=Adam(learning_rate=0.001))"
   ]
  },
  {
   "cell_type": "markdown",
   "id": "d41ed86a",
   "metadata": {},
   "source": [
    "# data"
   ]
  },
  {
   "cell_type": "code",
   "execution_count": 79,
   "id": "43f97dfd",
   "metadata": {},
   "outputs": [
    {
     "name": "stdout",
     "output_type": "stream",
     "text": [
      "(60055, 5)\n",
      "(29266, 5)\n"
     ]
    },
    {
     "name": "stderr",
     "output_type": "stream",
     "text": [
      "C:\\ProgramData\\Anaconda3\\lib\\site-packages\\IPython\\core\\interactiveshell.py:3444: DtypeWarning: Columns (20,29,30) have mixed types.Specify dtype option on import or set low_memory=False.\n",
      "  exec(code_obj, self.user_global_ns, self.user_ns)\n"
     ]
    },
    {
     "data": {
      "text/html": [
       "<div>\n",
       "<style scoped>\n",
       "    .dataframe tbody tr th:only-of-type {\n",
       "        vertical-align: middle;\n",
       "    }\n",
       "\n",
       "    .dataframe tbody tr th {\n",
       "        vertical-align: top;\n",
       "    }\n",
       "\n",
       "    .dataframe thead th {\n",
       "        text-align: right;\n",
       "    }\n",
       "</style>\n",
       "<table border=\"1\" class=\"dataframe\">\n",
       "  <thead>\n",
       "    <tr style=\"text-align: right;\">\n",
       "      <th></th>\n",
       "      <th>cdr3.alpha</th>\n",
       "      <th>cdr3.beta</th>\n",
       "      <th>antigen.epitope</th>\n",
       "      <th>antigen.species</th>\n",
       "      <th>mhc.class</th>\n",
       "    </tr>\n",
       "  </thead>\n",
       "  <tbody>\n",
       "    <tr>\n",
       "      <th>0</th>\n",
       "      <td>CIVRAPGRADMRF</td>\n",
       "      <td>CASSYLPGQGDHYSNQPQHF</td>\n",
       "      <td>FLKEKGGL</td>\n",
       "      <td>HIV-1</td>\n",
       "      <td>MHCI</td>\n",
       "    </tr>\n",
       "    <tr>\n",
       "      <th>2</th>\n",
       "      <td>CAVPSGAGSYQLTF</td>\n",
       "      <td>CASSFEPGQGFYSNQPQHF</td>\n",
       "      <td>FLKEKGGL</td>\n",
       "      <td>HIV-1</td>\n",
       "      <td>MHCI</td>\n",
       "    </tr>\n",
       "    <tr>\n",
       "      <th>3</th>\n",
       "      <td>CAVKASGSRLT</td>\n",
       "      <td>CASSYEPGQVSHYSNQPQHF</td>\n",
       "      <td>FLKEKGGL</td>\n",
       "      <td>HIV-1</td>\n",
       "      <td>MHCI</td>\n",
       "    </tr>\n",
       "    <tr>\n",
       "      <th>4</th>\n",
       "      <td>CAYRPPGTYKYIF</td>\n",
       "      <td>CASSALASLNEQFF</td>\n",
       "      <td>FLKEKGGL</td>\n",
       "      <td>HIV-1</td>\n",
       "      <td>MHCI</td>\n",
       "    </tr>\n",
       "    <tr>\n",
       "      <th>5</th>\n",
       "      <td>CIVRAPGRADMRF</td>\n",
       "      <td>CASSYLPGQGDHYSNQPQHF</td>\n",
       "      <td>FLKEQGGL</td>\n",
       "      <td>HIV-1</td>\n",
       "      <td>MHCI</td>\n",
       "    </tr>\n",
       "  </tbody>\n",
       "</table>\n",
       "</div>"
      ],
      "text/plain": [
       "       cdr3.alpha             cdr3.beta antigen.epitope antigen.species  \\\n",
       "0   CIVRAPGRADMRF  CASSYLPGQGDHYSNQPQHF        FLKEKGGL           HIV-1   \n",
       "2  CAVPSGAGSYQLTF   CASSFEPGQGFYSNQPQHF        FLKEKGGL           HIV-1   \n",
       "3     CAVKASGSRLT  CASSYEPGQVSHYSNQPQHF        FLKEKGGL           HIV-1   \n",
       "4   CAYRPPGTYKYIF        CASSALASLNEQFF        FLKEKGGL           HIV-1   \n",
       "5   CIVRAPGRADMRF  CASSYLPGQGDHYSNQPQHF        FLKEQGGL           HIV-1   \n",
       "\n",
       "  mhc.class  \n",
       "0      MHCI  \n",
       "2      MHCI  \n",
       "3      MHCI  \n",
       "4      MHCI  \n",
       "5      MHCI  "
      ]
     },
     "execution_count": 79,
     "metadata": {},
     "output_type": "execute_result"
    }
   ],
   "source": [
    "## load dataset & filter out missing data\n",
    "# dbfile = pd.read_csv('./Data/vdjdb.slim.txt', sep='\\t')\n",
    "dbfile = pd.read_csv('./Data/VDJDB/vdjdb_full.txt', sep='\\t')\n",
    "# print(dbfile.columns)\n",
    "dbfile = dbfile[['cdr3.alpha', 'cdr3.beta','antigen.epitope','antigen.species',\"mhc.class\"]]\n",
    "print(dbfile.shape)\n",
    "dbfile = dbfile.dropna(subset=['cdr3.alpha', 'cdr3.beta','antigen.epitope'])\n",
    "print(dbfile.shape)\n",
    "dbfile.head()"
   ]
  },
  {
   "cell_type": "code",
   "execution_count": 80,
   "id": "6da917c4",
   "metadata": {},
   "outputs": [
    {
     "name": "stdout",
     "output_type": "stream",
     "text": [
      "(205824, 4)\n",
      "(25927, 4)\n"
     ]
    },
    {
     "name": "stderr",
     "output_type": "stream",
     "text": [
      "C:\\ProgramData\\Anaconda3\\lib\\site-packages\\IPython\\core\\interactiveshell.py:3444: DtypeWarning: Columns (8,10,11,13,15,16,17,18,19,20,21,22,23,24,25,30,31,36,37,42,44,45,46,47,48,49,50,51,52,53,54,59,60,65,66) have mixed types.Specify dtype option on import or set low_memory=False.\n",
      "  exec(code_obj, self.user_global_ns, self.user_ns)\n"
     ]
    },
    {
     "data": {
      "text/html": [
       "<div>\n",
       "<style scoped>\n",
       "    .dataframe tbody tr th:only-of-type {\n",
       "        vertical-align: middle;\n",
       "    }\n",
       "\n",
       "    .dataframe tbody tr th {\n",
       "        vertical-align: top;\n",
       "    }\n",
       "\n",
       "    .dataframe thead th {\n",
       "        text-align: right;\n",
       "    }\n",
       "</style>\n",
       "<table border=\"1\" class=\"dataframe\">\n",
       "  <thead>\n",
       "    <tr style=\"text-align: right;\">\n",
       "      <th></th>\n",
       "      <th>Chain 1 CDR3 Curated</th>\n",
       "      <th>Chain 2 CDR3 Curated</th>\n",
       "      <th>Description</th>\n",
       "      <th>Organism</th>\n",
       "    </tr>\n",
       "  </thead>\n",
       "  <tbody>\n",
       "    <tr>\n",
       "      <th>0</th>\n",
       "      <td>IVVRSSNTGKLI</td>\n",
       "      <td>ASSQDRDTQY</td>\n",
       "      <td>VMAPRTLIL</td>\n",
       "      <td>Homo sapiens (human)</td>\n",
       "    </tr>\n",
       "    <tr>\n",
       "      <th>80</th>\n",
       "      <td>CAVTTDSWGKLQF</td>\n",
       "      <td>CASRPGLAGGRPEQYF</td>\n",
       "      <td>LLFGYPVYV</td>\n",
       "      <td>Human T-cell leukemia virus type I (Human T ce...</td>\n",
       "    </tr>\n",
       "    <tr>\n",
       "      <th>82</th>\n",
       "      <td>CAVTTDSWGKLQF</td>\n",
       "      <td>CASRPGLMSAQPEQYF</td>\n",
       "      <td>LLFGYPVYV</td>\n",
       "      <td>Human T-cell leukemia virus type I (Human T ce...</td>\n",
       "    </tr>\n",
       "    <tr>\n",
       "      <th>109</th>\n",
       "      <td>CAVRPTSGGSYIPTF</td>\n",
       "      <td>CASSYVGNTGELFF</td>\n",
       "      <td>SLLMWITQC</td>\n",
       "      <td>Homo sapiens (human)</td>\n",
       "    </tr>\n",
       "    <tr>\n",
       "      <th>202</th>\n",
       "      <td>TVYGGATNKLI</td>\n",
       "      <td>SARGGSYNSPLH</td>\n",
       "      <td>LSRFSWGAEGQRPGFGYGG</td>\n",
       "      <td>Homo sapiens (human)</td>\n",
       "    </tr>\n",
       "  </tbody>\n",
       "</table>\n",
       "</div>"
      ],
      "text/plain": [
       "    Chain 1 CDR3 Curated Chain 2 CDR3 Curated          Description  \\\n",
       "0           IVVRSSNTGKLI           ASSQDRDTQY            VMAPRTLIL   \n",
       "80         CAVTTDSWGKLQF     CASRPGLAGGRPEQYF            LLFGYPVYV   \n",
       "82         CAVTTDSWGKLQF     CASRPGLMSAQPEQYF            LLFGYPVYV   \n",
       "109      CAVRPTSGGSYIPTF       CASSYVGNTGELFF            SLLMWITQC   \n",
       "202          TVYGGATNKLI         SARGGSYNSPLH  LSRFSWGAEGQRPGFGYGG   \n",
       "\n",
       "                                              Organism  \n",
       "0                                 Homo sapiens (human)  \n",
       "80   Human T-cell leukemia virus type I (Human T ce...  \n",
       "82   Human T-cell leukemia virus type I (Human T ce...  \n",
       "109                               Homo sapiens (human)  \n",
       "202                               Homo sapiens (human)  "
      ]
     },
     "execution_count": 80,
     "metadata": {},
     "output_type": "execute_result"
    }
   ],
   "source": [
    "iedbfile = pd.read_csv('./Data/IEDB/tcell_receptor_table_export_1668026760.csv')\n",
    "# print(iedbfile.columns)\n",
    "# Chain 1 Full Sequence', 'Chain 1 Accession', 'Chain 1 CDR3 Curated',\n",
    "#        'Chain 1 CDR3 Calculated'\n",
    "iedbfile = iedbfile[['Chain 1 CDR3 Curated','Chain 2 CDR3 Curated',\"Description\",\"Organism\"]]\n",
    "print(iedbfile.shape)\n",
    "iedbfile = iedbfile.dropna(subset=['Chain 1 CDR3 Curated','Chain 2 CDR3 Curated',\"Description\"])\n",
    "iedbfile.Description = iedbfile.Description.str.split(' ').str[0]\n",
    "iedbfile = iedbfile[~iedbfile.Description.str.contains('[^ARNDCQEGHILKMFPSTWYV]',na=False)]\n",
    "print(iedbfile.shape)\n",
    "iedbfile.head()"
   ]
  },
  {
   "cell_type": "code",
   "execution_count": 81,
   "id": "54afa114",
   "metadata": {},
   "outputs": [],
   "source": [
    "# print(len(train['antigen.epitope']))\n",
    "# print(sum(train['antigen.epitope']==\"GILGFVFTL\"))\n",
    "# for i in set(train['antigen.epitope']):\n",
    "#     train['antigen.epitope'].count(i)\n",
    "dbfile = dbfile.drop_duplicates(subset=['cdr3.alpha', 'cdr3.beta','antigen.epitope'])\n",
    "dbfile = dbfile.drop(dbfile.query('`antigen.epitope` == \"KLGGALQAK\"').sample(frac=.87).index)"
   ]
  },
  {
   "cell_type": "code",
   "execution_count": 82,
   "id": "154b59fc",
   "metadata": {},
   "outputs": [],
   "source": [
    "from functions import load"
   ]
  },
  {
   "cell_type": "code",
   "execution_count": 83,
   "id": "c442f683",
   "metadata": {},
   "outputs": [
    {
     "data": {
      "text/plain": [
       "<module 'functions.load' from 'C:\\\\Users\\\\zjin75\\\\OneDrive - Emory University\\\\Emory\\\\Classes\\\\2022 fall\\\\BMI536 DL\\\\final\\\\CDR2EPI\\\\functions\\\\load.py'>"
      ]
     },
     "execution_count": 83,
     "metadata": {},
     "output_type": "execute_result"
    }
   ],
   "source": [
    "from importlib import reload\n",
    "reload(load)"
   ]
  },
  {
   "cell_type": "code",
   "execution_count": 84,
   "id": "fa98a6d9",
   "metadata": {},
   "outputs": [
    {
     "name": "stdout",
     "output_type": "stream",
     "text": [
      "0     CIVRAPGRADMRF\n",
      "2    CAVPSGAGSYQLTF\n",
      "Name: cdr3.alpha, dtype: object\n"
     ]
    },
    {
     "data": {
      "text/plain": [
       "(2, 30, 20)"
      ]
     },
     "execution_count": 84,
     "metadata": {},
     "output_type": "execute_result"
    }
   ],
   "source": [
    "print(dbfile.head(n=2)[\"cdr3.alpha\"])\n",
    "load.enc_list_bl_max_len(dbfile.head(n=2)[\"cdr3.alpha\"],30).shape"
   ]
  },
  {
   "cell_type": "code",
   "execution_count": 85,
   "id": "ba026b2e",
   "metadata": {},
   "outputs": [],
   "source": [
    "tokens = load.blosum50_20aa.keys()\n",
    "\n",
    "tokens = list(tokens)\n",
    "tokens.insert(0, '.')\n",
    "tokens.insert(1, '>')\n",
    "tokens.insert(2, '<')\n",
    "tk_dict = defaultdict(lambda: None)\n",
    "for idx in range(len(tokens)):\n",
    "    tk_dict[tokens[idx]]=idx\n",
    "vocabSize=23"
   ]
  },
  {
   "cell_type": "code",
   "execution_count": 86,
   "id": "f1adb61b",
   "metadata": {},
   "outputs": [
    {
     "data": {
      "text/plain": [
       "(52, 30)"
      ]
     },
     "execution_count": 86,
     "metadata": {},
     "output_type": "execute_result"
    }
   ],
   "source": [
    "load.positional_coding(dbfile.head(n=52)[\"cdr3.alpha\"],tk_dict,30).shape\n",
    "load.positional_coding(iedbfile.head(n=52)[\"Chain 1 CDR3 Curated\"],tk_dict,30).shape"
   ]
  },
  {
   "cell_type": "code",
   "execution_count": 87,
   "id": "21f75006",
   "metadata": {},
   "outputs": [],
   "source": [
    "from sklearn.model_selection import train_test_split"
   ]
  },
  {
   "cell_type": "code",
   "execution_count": 88,
   "id": "312a3af7",
   "metadata": {},
   "outputs": [],
   "source": [
    "train, test = train_test_split(dbfile[dbfile['antigen.epitope'].str.len()<=12], shuffle=True ,test_size=0.2)"
   ]
  },
  {
   "cell_type": "code",
   "execution_count": 124,
   "id": "c16f3187",
   "metadata": {},
   "outputs": [],
   "source": [
    "tcra_train = np.roll(load.enc_list_bl_max_len(train[\"cdr3.alpha\"], 32), shift=1, axis=1)\n",
    "tcra_test = np.roll(load.enc_list_bl_max_len(test[\"cdr3.alpha\"], 32), shift=1, axis=1)\n",
    "tcrb_train = np.roll(load.enc_list_bl_max_len(train[\"cdr3.beta\"], 32), shift=1, axis=1)\n",
    "tcrb_test = np.roll(load.enc_list_bl_max_len(test[\"cdr3.beta\"], 32), shift=1, axis=1)\n",
    "# ept_train = np.roll(ept_train, 1)\n",
    "\n",
    "ept_train_lb = load.enc_list_bl_max_len(train['antigen.epitope'], 13)\n",
    "ept_test_lb = load.enc_list_bl_max_len(test['antigen.epitope'], 13)\n",
    "\n",
    "ept_train = np.roll(ept_train_lb, shift=1, axis=1)\n",
    "ept_test = np.roll(ept_test_lb, shift=1, axis=1)\n",
    "\n",
    "train_inputs = [tcra_train, tcrb_train]\n",
    "test_inputs = [tcra_test,tcrb_test]\n",
    "\n",
    "y_train=ept_train\n",
    "y_test=ept_test\n",
    "\n",
    "validation_inputs=(test_inputs,y_test)"
   ]
  },
  {
   "cell_type": "code",
   "execution_count": 123,
   "id": "a9f1566a",
   "metadata": {},
   "outputs": [
    {
     "data": {
      "text/plain": [
       "(3172, 32, 20)"
      ]
     },
     "execution_count": 123,
     "metadata": {},
     "output_type": "execute_result"
    }
   ],
   "source": [
    "tcra_test.shape"
   ]
  },
  {
   "cell_type": "code",
   "execution_count": 118,
   "id": "26228d06",
   "metadata": {},
   "outputs": [
    {
     "name": "stdout",
     "output_type": "stream",
     "text": [
      "(12687, 32, 20)\n",
      "(12687, 32, 20)\n",
      "(12687, 13, 20)\n",
      "(3172, 32, 20)\n",
      "(3172, 32, 20)\n",
      "(3172, 13, 20)\n"
     ]
    }
   ],
   "source": [
    "print(tcra_train.shape)\n",
    "print(tcrb_train.shape)\n",
    "print(ept_train.shape)\n",
    "print(tcra_test.shape)\n",
    "print(tcrb_test.shape)\n",
    "print(ept_test.shape)"
   ]
  },
  {
   "cell_type": "markdown",
   "id": "0cae7d40",
   "metadata": {},
   "source": [
    "# train"
   ]
  },
  {
   "cell_type": "code",
   "execution_count": 91,
   "id": "5507425d",
   "metadata": {},
   "outputs": [],
   "source": [
    "pd.set_option('display.max_rows', None)\n",
    "pd.set_option('display.max_columns', None)\n",
    "pd.set_option('display.width', None)"
   ]
  },
  {
   "cell_type": "code",
   "execution_count": 92,
   "id": "74a81a10",
   "metadata": {},
   "outputs": [],
   "source": [
    "early_stop = EarlyStopping(monitor='loss',min_delta=0,\n",
    "               patience=10, verbose=0,mode='min',restore_best_weights=True)"
   ]
  },
  {
   "cell_type": "code",
   "execution_count": 113,
   "id": "478c5c3b",
   "metadata": {},
   "outputs": [
    {
     "name": "stdout",
     "output_type": "stream",
     "text": [
      "(None, 32, 16)\n",
      "(None, 16)\n",
      "(None, 128)\n",
      "(None, 13, 20)\n"
     ]
    }
   ],
   "source": [
    "mdl=nettcr_ab()\n",
    "mdl.compile(loss=\"mean_squared_error\", optimizer=Adam(learning_rate=0.001))"
   ]
  },
  {
   "cell_type": "code",
   "execution_count": 125,
   "id": "3a58602c",
   "metadata": {},
   "outputs": [
    {
     "name": "stdout",
     "output_type": "stream",
     "text": [
      "Training..\n",
      "Epoch 1/100\n",
      "199/199 [==============================] - 2s 8ms/step - loss: 3.7093 - val_loss: 3.6545\n",
      "Epoch 2/100\n",
      "199/199 [==============================] - 1s 6ms/step - loss: 3.6681 - val_loss: 3.6120\n",
      "Epoch 3/100\n",
      "199/199 [==============================] - 1s 7ms/step - loss: 3.5827 - val_loss: 3.5184\n",
      "Epoch 4/100\n",
      "199/199 [==============================] - 1s 7ms/step - loss: 3.5271 - val_loss: 3.4895\n",
      "Epoch 5/100\n",
      "199/199 [==============================] - 1s 7ms/step - loss: 3.5000 - val_loss: 3.4746\n",
      "Epoch 6/100\n",
      "199/199 [==============================] - 1s 7ms/step - loss: 3.4685 - val_loss: 3.4745\n",
      "Epoch 7/100\n",
      "199/199 [==============================] - 1s 7ms/step - loss: 3.4504 - val_loss: 3.4291\n",
      "Epoch 8/100\n",
      "199/199 [==============================] - 1s 7ms/step - loss: 3.4227 - val_loss: 3.4083\n",
      "Epoch 9/100\n",
      "199/199 [==============================] - 1s 7ms/step - loss: 3.3957 - val_loss: 3.3888\n",
      "Epoch 10/100\n",
      "199/199 [==============================] - 1s 7ms/step - loss: 3.3548 - val_loss: 3.3408\n",
      "Epoch 11/100\n",
      "199/199 [==============================] - 1s 7ms/step - loss: 3.3237 - val_loss: 3.3138\n",
      "Epoch 12/100\n",
      "199/199 [==============================] - 2s 8ms/step - loss: 3.2954 - val_loss: 3.2965\n",
      "Epoch 13/100\n",
      "199/199 [==============================] - 1s 7ms/step - loss: 3.2765 - val_loss: 3.2897\n",
      "Epoch 14/100\n",
      "199/199 [==============================] - 1s 7ms/step - loss: 3.2597 - val_loss: 3.3019\n",
      "Epoch 15/100\n",
      "199/199 [==============================] - 1s 7ms/step - loss: 3.2452 - val_loss: 3.2735\n",
      "Epoch 16/100\n",
      "199/199 [==============================] - 1s 7ms/step - loss: 3.2238 - val_loss: 3.2786\n",
      "Epoch 17/100\n",
      "199/199 [==============================] - 1s 7ms/step - loss: 3.2149 - val_loss: 3.2786\n",
      "Epoch 18/100\n",
      "199/199 [==============================] - 1s 7ms/step - loss: 3.2075 - val_loss: 3.2612\n",
      "Epoch 19/100\n",
      "199/199 [==============================] - 1s 7ms/step - loss: 3.1841 - val_loss: 3.2531\n",
      "Epoch 20/100\n",
      "199/199 [==============================] - 1s 7ms/step - loss: 3.1635 - val_loss: 3.2419\n",
      "Epoch 21/100\n",
      "199/199 [==============================] - 2s 8ms/step - loss: 3.1496 - val_loss: 3.2258\n",
      "Epoch 22/100\n",
      "199/199 [==============================] - 1s 7ms/step - loss: 3.1330 - val_loss: 3.2250\n",
      "Epoch 23/100\n",
      "199/199 [==============================] - 2s 8ms/step - loss: 3.1234 - val_loss: 3.2394\n",
      "Epoch 24/100\n",
      "199/199 [==============================] - 1s 7ms/step - loss: 3.1102 - val_loss: 3.2136\n",
      "Epoch 25/100\n",
      "199/199 [==============================] - 1s 6ms/step - loss: 3.0931 - val_loss: 3.2266\n",
      "Epoch 26/100\n",
      "199/199 [==============================] - 1s 6ms/step - loss: 3.0840 - val_loss: 3.2274\n",
      "Epoch 27/100\n",
      "199/199 [==============================] - 1s 6ms/step - loss: 3.0738 - val_loss: 3.2087\n",
      "Epoch 28/100\n",
      "199/199 [==============================] - 1s 6ms/step - loss: 3.0580 - val_loss: 3.1973\n",
      "Epoch 29/100\n",
      "199/199 [==============================] - 1s 6ms/step - loss: 3.0521 - val_loss: 3.1827\n",
      "Epoch 30/100\n",
      "199/199 [==============================] - 1s 6ms/step - loss: 3.0344 - val_loss: 3.1806\n",
      "Epoch 31/100\n",
      "199/199 [==============================] - 1s 6ms/step - loss: 3.0209 - val_loss: 3.1921\n",
      "Epoch 32/100\n",
      "199/199 [==============================] - 1s 6ms/step - loss: 3.0140 - val_loss: 3.1826\n",
      "Epoch 33/100\n",
      "199/199 [==============================] - 1s 6ms/step - loss: 3.0024 - val_loss: 3.1953\n",
      "Epoch 34/100\n",
      "199/199 [==============================] - 1s 6ms/step - loss: 2.9900 - val_loss: 3.1950\n",
      "Epoch 35/100\n",
      "199/199 [==============================] - 1s 6ms/step - loss: 2.9850 - val_loss: 3.1841\n",
      "Epoch 36/100\n",
      "199/199 [==============================] - 1s 6ms/step - loss: 2.9738 - val_loss: 3.1694\n",
      "Epoch 37/100\n",
      "199/199 [==============================] - 1s 6ms/step - loss: 2.9642 - val_loss: 3.1801\n",
      "Epoch 38/100\n",
      "199/199 [==============================] - 1s 6ms/step - loss: 2.9565 - val_loss: 3.1752\n",
      "Epoch 39/100\n",
      "199/199 [==============================] - 1s 6ms/step - loss: 2.9462 - val_loss: 3.1801\n",
      "Epoch 40/100\n",
      "199/199 [==============================] - 1s 6ms/step - loss: 2.9311 - val_loss: 3.1713\n",
      "Epoch 41/100\n",
      "199/199 [==============================] - 1s 6ms/step - loss: 2.9367 - val_loss: 3.1936\n",
      "Epoch 42/100\n",
      "199/199 [==============================] - 1s 6ms/step - loss: 2.9156 - val_loss: 3.1780\n",
      "Epoch 43/100\n",
      "199/199 [==============================] - 1s 6ms/step - loss: 2.9104 - val_loss: 3.1856\n",
      "Epoch 44/100\n",
      "199/199 [==============================] - 1s 6ms/step - loss: 2.9052 - val_loss: 3.1719\n",
      "Epoch 45/100\n",
      "199/199 [==============================] - 1s 6ms/step - loss: 2.8943 - val_loss: 3.1597\n",
      "Epoch 46/100\n",
      "199/199 [==============================] - 1s 6ms/step - loss: 2.8841 - val_loss: 3.1739\n",
      "Epoch 47/100\n",
      "199/199 [==============================] - 1s 6ms/step - loss: 2.8831 - val_loss: 3.1806\n",
      "Epoch 48/100\n",
      "199/199 [==============================] - 1s 6ms/step - loss: 2.8780 - val_loss: 3.1735\n",
      "Epoch 49/100\n",
      "199/199 [==============================] - 1s 6ms/step - loss: 2.8689 - val_loss: 3.1683\n",
      "Epoch 50/100\n",
      "199/199 [==============================] - 1s 6ms/step - loss: 2.8610 - val_loss: 3.1472\n",
      "Epoch 51/100\n",
      "199/199 [==============================] - 1s 6ms/step - loss: 2.8490 - val_loss: 3.1964\n",
      "Epoch 52/100\n",
      "199/199 [==============================] - 1s 6ms/step - loss: 2.8431 - val_loss: 3.1748\n",
      "Epoch 53/100\n",
      "199/199 [==============================] - 1s 6ms/step - loss: 2.8420 - val_loss: 3.1821\n",
      "Epoch 54/100\n",
      "199/199 [==============================] - 1s 6ms/step - loss: 2.8324 - val_loss: 3.2164\n",
      "Epoch 55/100\n",
      "199/199 [==============================] - 1s 6ms/step - loss: 2.8243 - val_loss: 3.1608\n",
      "Epoch 56/100\n",
      "199/199 [==============================] - 1s 6ms/step - loss: 2.8193 - val_loss: 3.1595\n",
      "Epoch 57/100\n",
      "199/199 [==============================] - 1s 6ms/step - loss: 2.8134 - val_loss: 3.1669\n",
      "Epoch 58/100\n",
      "199/199 [==============================] - 1s 6ms/step - loss: 2.8080 - val_loss: 3.1591\n",
      "Epoch 59/100\n",
      "199/199 [==============================] - 1s 6ms/step - loss: 2.8034 - val_loss: 3.1683\n",
      "Epoch 60/100\n",
      "199/199 [==============================] - 1s 6ms/step - loss: 2.7961 - val_loss: 3.1850\n",
      "Epoch 61/100\n",
      "199/199 [==============================] - 1s 6ms/step - loss: 2.7880 - val_loss: 3.1911\n",
      "Epoch 62/100\n",
      "199/199 [==============================] - 1s 6ms/step - loss: 2.7838 - val_loss: 3.1851\n",
      "Epoch 63/100\n",
      "199/199 [==============================] - 1s 7ms/step - loss: 2.7761 - val_loss: 3.1750\n",
      "Epoch 64/100\n",
      "199/199 [==============================] - 1s 6ms/step - loss: 2.7657 - val_loss: 3.1937\n",
      "Epoch 65/100\n",
      "199/199 [==============================] - 1s 6ms/step - loss: 2.7709 - val_loss: 3.1787\n",
      "Epoch 66/100\n",
      "199/199 [==============================] - 1s 6ms/step - loss: 2.7614 - val_loss: 3.1640\n",
      "Epoch 67/100\n",
      "199/199 [==============================] - 1s 6ms/step - loss: 2.7537 - val_loss: 3.2026\n",
      "Epoch 68/100\n",
      "199/199 [==============================] - 1s 6ms/step - loss: 2.7486 - val_loss: 3.1818\n",
      "Epoch 69/100\n",
      "199/199 [==============================] - 1s 6ms/step - loss: 2.7506 - val_loss: 3.1983\n",
      "Epoch 70/100\n",
      "199/199 [==============================] - 1s 6ms/step - loss: 2.7394 - val_loss: 3.1778\n",
      "Epoch 71/100\n",
      "199/199 [==============================] - 1s 6ms/step - loss: 2.7303 - val_loss: 3.2064\n",
      "Epoch 72/100\n",
      "199/199 [==============================] - 1s 6ms/step - loss: 2.7207 - val_loss: 3.1849\n",
      "Epoch 73/100\n",
      "199/199 [==============================] - 1s 6ms/step - loss: 2.7169 - val_loss: 3.1863\n",
      "Epoch 74/100\n",
      "199/199 [==============================] - 1s 6ms/step - loss: 2.7153 - val_loss: 3.1802\n",
      "Epoch 75/100\n",
      "199/199 [==============================] - 1s 6ms/step - loss: 2.7084 - val_loss: 3.2117\n",
      "Epoch 76/100\n",
      "199/199 [==============================] - 1s 6ms/step - loss: 2.7018 - val_loss: 3.2094\n",
      "Epoch 77/100\n",
      "199/199 [==============================] - 1s 6ms/step - loss: 2.7024 - val_loss: 3.1837\n",
      "Epoch 78/100\n",
      "199/199 [==============================] - 1s 7ms/step - loss: 2.6855 - val_loss: 3.2070\n",
      "Epoch 79/100\n",
      "199/199 [==============================] - 1s 7ms/step - loss: 2.6939 - val_loss: 3.2148\n",
      "Epoch 80/100\n",
      "199/199 [==============================] - 1s 6ms/step - loss: 2.6781 - val_loss: 3.1978\n",
      "Epoch 81/100\n"
     ]
    },
    {
     "name": "stdout",
     "output_type": "stream",
     "text": [
      "199/199 [==============================] - 1s 7ms/step - loss: 2.6774 - val_loss: 3.2042\n",
      "Epoch 82/100\n",
      "199/199 [==============================] - 1s 7ms/step - loss: 2.6663 - val_loss: 3.2323\n",
      "Epoch 83/100\n",
      "199/199 [==============================] - 1s 7ms/step - loss: 2.6696 - val_loss: 3.2400\n",
      "Epoch 84/100\n",
      "199/199 [==============================] - 1s 7ms/step - loss: 2.6624 - val_loss: 3.2268\n",
      "Epoch 85/100\n",
      "199/199 [==============================] - 1s 7ms/step - loss: 2.6617 - val_loss: 3.2329\n",
      "Epoch 86/100\n",
      "199/199 [==============================] - 1s 7ms/step - loss: 2.6604 - val_loss: 3.2035\n",
      "Epoch 87/100\n",
      "199/199 [==============================] - 1s 7ms/step - loss: 2.6504 - val_loss: 3.2114\n",
      "Epoch 88/100\n",
      "199/199 [==============================] - 1s 7ms/step - loss: 2.6421 - val_loss: 3.2246\n",
      "Epoch 89/100\n",
      "199/199 [==============================] - 2s 8ms/step - loss: 2.6445 - val_loss: 3.2454\n",
      "Epoch 90/100\n",
      "199/199 [==============================] - 1s 7ms/step - loss: 2.6509 - val_loss: 3.2071\n",
      "Epoch 91/100\n",
      "199/199 [==============================] - 2s 8ms/step - loss: 2.6313 - val_loss: 3.2203\n",
      "Epoch 92/100\n",
      "199/199 [==============================] - 2s 8ms/step - loss: 2.6283 - val_loss: 3.2106\n",
      "Epoch 93/100\n",
      "199/199 [==============================] - 1s 7ms/step - loss: 2.6197 - val_loss: 3.2209\n",
      "Epoch 94/100\n",
      "199/199 [==============================] - 2s 8ms/step - loss: 2.6213 - val_loss: 3.2441\n",
      "Epoch 95/100\n",
      "199/199 [==============================] - 1s 8ms/step - loss: 2.6119 - val_loss: 3.2388\n",
      "Epoch 96/100\n",
      "199/199 [==============================] - 1s 7ms/step - loss: 2.6057 - val_loss: 3.2364\n",
      "Epoch 97/100\n",
      "199/199 [==============================] - 2s 8ms/step - loss: 2.6044 - val_loss: 3.2544\n",
      "Epoch 98/100\n",
      "199/199 [==============================] - 2s 8ms/step - loss: 2.6001 - val_loss: 3.2507\n",
      "Epoch 99/100\n",
      "199/199 [==============================] - 2s 8ms/step - loss: 2.6087 - val_loss: 3.2420\n",
      "Epoch 100/100\n",
      "199/199 [==============================] - 2s 8ms/step - loss: 2.5955 - val_loss: 3.2410\n"
     ]
    }
   ],
   "source": [
    "print('Training..')\n",
    "# Train\n",
    "history = mdl.fit(train_inputs, y_train, \n",
    "                  epochs=100, batch_size=64, verbose=1, callbacks=[early_stop],\n",
    "                  validation_data= (validation_inputs))"
   ]
  },
  {
   "cell_type": "code",
   "execution_count": 134,
   "id": "ae7e2033",
   "metadata": {},
   "outputs": [
    {
     "name": "stdout",
     "output_type": "stream",
     "text": [
      "dict_keys(['loss', 'val_loss'])\n"
     ]
    }
   ],
   "source": [
    "# list all data in history\n",
    "print(history.history.keys())"
   ]
  },
  {
   "cell_type": "code",
   "execution_count": 135,
   "id": "3db81b94",
   "metadata": {},
   "outputs": [
    {
     "data": {
      "image/png": "[encoded data removed]",
      "text/plain": [
       "<Figure size 432x288 with 1 Axes>"
      ]
     },
     "metadata": {
      "needs_background": "light"
     },
     "output_type": "display_data"
    }
   ],
   "source": [
    "# summarize history for accuracy\n",
    "plt.plot(history.history['loss'])\n",
    "plt.plot(history.history['val_loss'])\n",
    "plt.title('model loss')\n",
    "plt.ylabel('loss')\n",
    "plt.xlabel('epoch')\n",
    "plt.legend(['train', 'test'], loc='upper left')\n",
    "plt.show()"
   ]
  },
  {
   "cell_type": "markdown",
   "id": "1efb0f96",
   "metadata": {},
   "source": [
    "# CV"
   ]
  },
  {
   "cell_type": "code",
   "execution_count": null,
   "id": "d79d86e2",
   "metadata": {},
   "outputs": [],
   "source": []
  },
  {
   "cell_type": "code",
   "execution_count": null,
   "id": "b5bac211",
   "metadata": {},
   "outputs": [],
   "source": [
    "train, test = train_test_split(dbfile[dbfile['antigen.epitope'].str.len()<=12], shuffle=True ,test_size=0.2)"
   ]
  }
 ],
 "metadata": {
  "kernelspec": {
   "display_name": "Python 3 (ipykernel)",
   "language": "python",
   "name": "python3"
  },
  "language_info": {
   "codemirror_mode": {
    "name": "ipython",
    "version": 3
   },
   "file_extension": ".py",
   "mimetype": "text/x-python",
   "name": "python",
   "nbconvert_exporter": "python",
   "pygments_lexer": "ipython3",
   "version": "3.9.7"
  }
 },
 "nbformat": 4,
 "nbformat_minor": 5
}
